{
 "cells": [
  {
   "cell_type": "markdown",
   "metadata": {},
   "source": [
    "# CV Problem - Image Classification"
   ]
  },
  {
   "cell_type": "code",
   "execution_count": 1,
   "metadata": {},
   "outputs": [],
   "source": [
    "from pickle import load # to load pickled files\n",
    "import numpy as np # for data manipulation\n",
    "import matplotlib.pyplot as plt # for displaying images"
   ]
  },
  {
   "cell_type": "code",
   "execution_count": 2,
   "metadata": {},
   "outputs": [],
   "source": [
    "# function that loads pickled files and returns the data\n",
    "def load_data(filename):\n",
    "    return load(open(filename, 'rb'))"
   ]
  },
  {
   "cell_type": "code",
   "execution_count": 3,
   "metadata": {},
   "outputs": [],
   "source": [
    "# variables\n",
    "fn_train_image = \"train_image.pkl\"\n",
    "fn_train_label = \"train_label.pkl\"\n",
    "fn_test_image = \"test_image.pkl\""
   ]
  },
  {
   "cell_type": "markdown",
   "metadata": {},
   "source": [
    "## Load train images"
   ]
  },
  {
   "cell_type": "code",
   "execution_count": 4,
   "metadata": {},
   "outputs": [],
   "source": [
    "# load training images\n",
    "train_images = load_data(fn_train_image)"
   ]
  },
  {
   "cell_type": "code",
   "execution_count": 5,
   "metadata": {},
   "outputs": [
    {
     "data": {
      "text/plain": [
       "8000"
      ]
     },
     "execution_count": 5,
     "metadata": {},
     "output_type": "execute_result"
    }
   ],
   "source": [
    "# find the length of train data\n",
    "len(train_images)"
   ]
  },
  {
   "cell_type": "code",
   "execution_count": 6,
   "metadata": {},
   "outputs": [],
   "source": [
    "# create num_images variable\n",
    "num_images = len(train_images)"
   ]
  },
  {
   "cell_type": "code",
   "execution_count": 7,
   "metadata": {},
   "outputs": [
    {
     "data": {
      "text/plain": [
       "784"
      ]
     },
     "execution_count": 7,
     "metadata": {},
     "output_type": "execute_result"
    }
   ],
   "source": [
    "# sneak-peak\n",
    "len(train_images[0])"
   ]
  },
  {
   "cell_type": "code",
   "execution_count": 8,
   "metadata": {
    "scrolled": true
   },
   "outputs": [
    {
     "data": {
      "text/plain": [
       "<matplotlib.image.AxesImage at 0x7f6d25746c50>"
      ]
     },
     "execution_count": 8,
     "metadata": {},
     "output_type": "execute_result"
    },
    {
     "data": {
      "image/png": "[encoded data removed]",
      "text/plain": [
       "<Figure size 432x288 with 1 Axes>"
      ]
     },
     "metadata": {},
     "output_type": "display_data"
    }
   ],
   "source": [
    "# display an image\n",
    "plt.imshow(np.array(train_images[8]).reshape((28, 28)))"
   ]
  },
  {
   "cell_type": "markdown",
   "metadata": {},
   "source": [
    "## Prepare train images"
   ]
  },
  {
   "cell_type": "code",
   "execution_count": 9,
   "metadata": {},
   "outputs": [],
   "source": [
    "_X_train = []"
   ]
  },
  {
   "cell_type": "code",
   "execution_count": 10,
   "metadata": {},
   "outputs": [],
   "source": [
    "# convert image array to numpy arrays and reshape them\n",
    "for i in range(len(train_images)):\n",
    "    curr_image = train_images[i]\n",
    "    curr_image_np = np.array(curr_image).reshape(28, 28, 1)\n",
    "    _X_train.append(curr_image_np)"
   ]
  },
  {
   "cell_type": "code",
   "execution_count": 11,
   "metadata": {},
   "outputs": [],
   "source": [
    "X_train = np.array(_X_train)\n",
    "X_train = X_train.astype('float32')\n",
    "X_train = X_train / 255.0"
   ]
  },
  {
   "cell_type": "code",
   "execution_count": 12,
   "metadata": {},
   "outputs": [
    {
     "data": {
      "text/plain": [
       "<matplotlib.image.AxesImage at 0x7f6d2559a7f0>"
      ]
     },
     "execution_count": 12,
     "metadata": {},
     "output_type": "execute_result"
    },
    {
     "data": {
      "image/png": "[encoded data removed]",
      "text/plain": [
       "<Figure size 432x288 with 1 Axes>"
      ]
     },
     "metadata": {},
     "output_type": "display_data"
    }
   ],
   "source": [
    "# sneak-peak to check if everything is ok\n",
    "plt.imshow(X_train[8].reshape(28, 28))"
   ]
  },
  {
   "cell_type": "markdown",
   "metadata": {},
   "source": [
    "## Load train labels"
   ]
  },
  {
   "cell_type": "code",
   "execution_count": 13,
   "metadata": {},
   "outputs": [],
   "source": [
    "# load train labels\n",
    "train_labels = load_data(fn_train_label)"
   ]
  },
  {
   "cell_type": "code",
   "execution_count": 14,
   "metadata": {},
   "outputs": [],
   "source": [
    "# assert length\n",
    "assert len(train_labels) == num_images"
   ]
  },
  {
   "cell_type": "code",
   "execution_count": 15,
   "metadata": {},
   "outputs": [
    {
     "data": {
      "text/plain": [
       "6"
      ]
     },
     "execution_count": 15,
     "metadata": {},
     "output_type": "execute_result"
    }
   ],
   "source": [
    "# find number of classes\n",
    "max_class_id = max(train_labels)\n",
    "max_class_id"
   ]
  },
  {
   "cell_type": "markdown",
   "metadata": {},
   "source": [
    "Number of classes present are 7"
   ]
  },
  {
   "cell_type": "code",
   "execution_count": 16,
   "metadata": {},
   "outputs": [],
   "source": [
    "num_classes = 7"
   ]
  },
  {
   "cell_type": "markdown",
   "metadata": {},
   "source": [
    "## Prepare model creation"
   ]
  },
  {
   "cell_type": "code",
   "execution_count": 17,
   "metadata": {},
   "outputs": [],
   "source": [
    "# we'll use keras for quick prototyping\n",
    "from tensorflow.keras.utils import to_categorical"
   ]
  },
  {
   "cell_type": "code",
   "execution_count": 18,
   "metadata": {},
   "outputs": [],
   "source": [
    "# create train labels\n",
    "y_train = []"
   ]
  },
  {
   "cell_type": "code",
   "execution_count": 19,
   "metadata": {},
   "outputs": [],
   "source": [
    "for i in range(num_images):\n",
    "    y_train.append(to_categorical(train_labels[i], num_classes))"
   ]
  },
  {
   "cell_type": "code",
   "execution_count": 20,
   "metadata": {},
   "outputs": [],
   "source": [
    "y_train = np.array(y_train)\n",
    "y_train = y_train.astype('float32')\n",
    "y_train = y_train / 255.0"
   ]
  },
  {
   "cell_type": "code",
   "execution_count": 21,
   "metadata": {},
   "outputs": [],
   "source": [
    "# imports for shuffling train data since the current data is ordered according to class\n",
    "from sklearn.utils import shuffle\n",
    "_X_train_shuffled, _y_train_shuffled = shuffle(X_train, y_train)"
   ]
  },
  {
   "cell_type": "code",
   "execution_count": 22,
   "metadata": {},
   "outputs": [],
   "source": [
    "# import for splitting data into train and validation\n",
    "from sklearn.model_selection import train_test_split\n",
    "X_train_shuffled, X_test, y_train_shuffled, y_test = train_test_split(_X_train_shuffled, _y_train_shuffled, test_size=0.1, random_state=42)"
   ]
  },
  {
   "cell_type": "markdown",
   "metadata": {},
   "source": [
    "## Data Augmentation"
   ]
  },
  {
   "cell_type": "code",
   "execution_count": 23,
   "metadata": {},
   "outputs": [
    {
     "name": "stderr",
     "output_type": "stream",
     "text": [
      "Using TensorFlow backend.\n"
     ]
    }
   ],
   "source": [
    "from keras.preprocessing.image import ImageDataGenerator"
   ]
  },
  {
   "cell_type": "code",
   "execution_count": 24,
   "metadata": {},
   "outputs": [],
   "source": [
    "datagen = ImageDataGenerator(\n",
    "        featurewise_center=False,  # set input mean to 0 over the dataset\n",
    "        samplewise_center=False,  # set each sample mean to 0\n",
    "        featurewise_std_normalization=False,  # divide inputs by std of the dataset\n",
    "        samplewise_std_normalization=False,  # divide each input by its std\n",
    "        zca_whitening=False,  # apply ZCA whitening\n",
    "        rotation_range=10,  # randomly rotate images in the range (degrees, 0 to 180)\n",
    "        zoom_range = 0.1, # Randomly zoom image \n",
    "        width_shift_range=0.1,  # randomly shift images horizontally (fraction of total width)\n",
    "        height_shift_range=0.1,  # randomly shift images vertically (fraction of total height)\n",
    "        horizontal_flip=False,  # randomly flip images\n",
    "        vertical_flip=False)  # randomly flip images\n",
    "\n",
    "datagen.fit(X_train_shuffled)"
   ]
  },
  {
   "cell_type": "markdown",
   "metadata": {},
   "source": [
    "## Convolution Neural Network Model\n",
    "We'll implement a Deep CNN Model with regularization techniques"
   ]
  },
  {
   "cell_type": "code",
   "execution_count": 25,
   "metadata": {},
   "outputs": [],
   "source": [
    "# import keras model modules\n",
    "from tensorflow.keras.layers import Conv2D, MaxPooling2D\n",
    "from tensorflow.keras.layers import Dense, Dropout, Activation, Flatten, Input\n",
    "from tensorflow.keras.models import Model"
   ]
  },
  {
   "cell_type": "code",
   "execution_count": 26,
   "metadata": {
    "scrolled": true
   },
   "outputs": [
    {
     "name": "stdout",
     "output_type": "stream",
     "text": [
      "_________________________________________________________________\n",
      "Layer (type)                 Output Shape              Param #   \n",
      "=================================================================\n",
      "input_1 (InputLayer)         (None, 28, 28, 1)         0         \n",
      "_________________________________________________________________\n",
      "conv2d (Conv2D)              (None, 28, 28, 32)        320       \n",
      "_________________________________________________________________\n",
      "conv2d_1 (Conv2D)            (None, 28, 28, 32)        9248      \n",
      "_________________________________________________________________\n",
      "max_pooling2d (MaxPooling2D) (None, 14, 14, 32)        0         \n",
      "_________________________________________________________________\n",
      "dropout (Dropout)            (None, 14, 14, 32)        0         \n",
      "_________________________________________________________________\n",
      "conv2d_2 (Conv2D)            (None, 14, 14, 64)        18496     \n",
      "_________________________________________________________________\n",
      "conv2d_3 (Conv2D)            (None, 14, 14, 64)        36928     \n",
      "_________________________________________________________________\n",
      "max_pooling2d_1 (MaxPooling2 (None, 7, 7, 64)          0         \n",
      "_________________________________________________________________\n",
      "dropout_1 (Dropout)          (None, 7, 7, 64)          0         \n",
      "_________________________________________________________________\n",
      "flatten (Flatten)            (None, 3136)              0         \n",
      "_________________________________________________________________\n",
      "dense (Dense)                (None, 512)               1606144   \n",
      "_________________________________________________________________\n",
      "dropout_2 (Dropout)          (None, 512)               0         \n",
      "_________________________________________________________________\n",
      "dense_1 (Dense)              (None, 7)                 3591      \n",
      "=================================================================\n",
      "Total params: 1,674,727\n",
      "Trainable params: 1,674,727\n",
      "Non-trainable params: 0\n",
      "_________________________________________________________________\n"
     ]
    }
   ],
   "source": [
    "# define the model\n",
    "x = Input(shape=(28, 28, 1))\n",
    "conv1 = Conv2D(32, (3,3), padding='same', activation='relu')(x)\n",
    "conv2 = Conv2D(32, (3,3), padding='same', activation='relu')(conv1)\n",
    "conv2_maxpool = MaxPooling2D(pool_size=(2,2))(conv2)\n",
    "conv2_maxpool_dropout = Dropout(0.25)(conv2_maxpool)\n",
    "\n",
    "conv3 = Conv2D(64, (3,3), padding='same', activation='relu')(conv2_maxpool_dropout)\n",
    "conv4 = Conv2D(64, (3,3), padding='same', activation='relu')(conv3)\n",
    "conv4_maxpool = MaxPooling2D(pool_size=(2,2))(conv4)\n",
    "conv4_maxpool_dropout = Dropout(0.25)(conv4_maxpool)\n",
    "\n",
    "flatten = Flatten()(conv4_maxpool_dropout)\n",
    "fc1 = Dense(512, activation='relu')(flatten)\n",
    "fc1_dropout = Dropout(0.5)(fc1)\n",
    "fc3 = Dense(num_classes, activation='softmax')(fc1_dropout)\n",
    "\n",
    "model = Model(inputs=x, outputs=fc3)\n",
    "model.summary()"
   ]
  },
  {
   "cell_type": "markdown",
   "metadata": {},
   "source": [
    "## Compile Model\n",
    "Compile the model with\n",
    "1. loss function as categorical crossentropy\n",
    "2. optimizer as Adam\n",
    "3. metric as accuracy"
   ]
  },
  {
   "cell_type": "code",
   "execution_count": 27,
   "metadata": {},
   "outputs": [],
   "source": [
    "model.compile(loss='categorical_crossentropy', optimizer='adam', metrics=['accuracy'])"
   ]
  },
  {
   "cell_type": "markdown",
   "metadata": {},
   "source": [
    "### Model Hyper-parameters"
   ]
  },
  {
   "cell_type": "code",
   "execution_count": 28,
   "metadata": {},
   "outputs": [],
   "source": [
    "n_epochs = 200\n",
    "batch_size = 512"
   ]
  },
  {
   "cell_type": "markdown",
   "metadata": {},
   "source": [
    "Finally, it's time to train our model"
   ]
  },
  {
   "cell_type": "code",
   "execution_count": 29,
   "metadata": {},
   "outputs": [],
   "source": [
    "# model.fit(X_train_shuffled, y_train_shuffled, epochs=n_epochs, verbose=1, batch_size=batch_size, shuffle=True, validation_data=(X_test, y_test))"
   ]
  },
  {
   "cell_type": "code",
   "execution_count": 30,
   "metadata": {},
   "outputs": [
    {
     "name": "stdout",
     "output_type": "stream",
     "text": [
      "Epoch 1/200\n",
      "14/14 [==============================] - 4s 276ms/step - loss: 0.0052 - acc: 0.4396 - val_loss: 0.0034 - val_acc: 0.6213\n",
      "Epoch 2/200\n",
      "14/14 [==============================] - 1s 64ms/step - loss: 0.0035 - acc: 0.6267 - val_loss: 0.0032 - val_acc: 0.6562\n",
      "Epoch 3/200\n",
      "14/14 [==============================] - 1s 59ms/step - loss: 0.0032 - acc: 0.6466 - val_loss: 0.0031 - val_acc: 0.6563\n",
      "Epoch 4/200\n",
      "14/14 [==============================] - 1s 59ms/step - loss: 0.0030 - acc: 0.6660 - val_loss: 0.0028 - val_acc: 0.6937\n",
      "Epoch 5/200\n",
      "14/14 [==============================] - 1s 59ms/step - loss: 0.0030 - acc: 0.6764 - val_loss: 0.0027 - val_acc: 0.7037\n",
      "Epoch 6/200\n",
      "14/14 [==============================] - 1s 58ms/step - loss: 0.0028 - acc: 0.7086 - val_loss: 0.0027 - val_acc: 0.7000\n",
      "Epoch 7/200\n",
      "14/14 [==============================] - 1s 58ms/step - loss: 0.0028 - acc: 0.7043 - val_loss: 0.0026 - val_acc: 0.7463\n",
      "Epoch 8/200\n",
      "14/14 [==============================] - 1s 58ms/step - loss: 0.0028 - acc: 0.7119 - val_loss: 0.0025 - val_acc: 0.7438\n",
      "Epoch 9/200\n",
      "14/14 [==============================] - 1s 59ms/step - loss: 0.0026 - acc: 0.7161 - val_loss: 0.0024 - val_acc: 0.7737\n",
      "Epoch 10/200\n",
      "14/14 [==============================] - 1s 58ms/step - loss: 0.0027 - acc: 0.7136 - val_loss: 0.0024 - val_acc: 0.7463\n",
      "Epoch 11/200\n",
      "14/14 [==============================] - 1s 59ms/step - loss: 0.0026 - acc: 0.7246 - val_loss: 0.0023 - val_acc: 0.7737\n",
      "Epoch 12/200\n",
      "14/14 [==============================] - 1s 59ms/step - loss: 0.0025 - acc: 0.7431 - val_loss: 0.0023 - val_acc: 0.7825\n",
      "Epoch 13/200\n",
      "14/14 [==============================] - 1s 59ms/step - loss: 0.0025 - acc: 0.7363 - val_loss: 0.0022 - val_acc: 0.7787\n",
      "Epoch 14/200\n",
      "14/14 [==============================] - 1s 59ms/step - loss: 0.0023 - acc: 0.7589 - val_loss: 0.0021 - val_acc: 0.7975\n",
      "Epoch 15/200\n",
      "14/14 [==============================] - 1s 60ms/step - loss: 0.0024 - acc: 0.7462 - val_loss: 0.0020 - val_acc: 0.7975\n",
      "Epoch 16/200\n",
      "14/14 [==============================] - 1s 62ms/step - loss: 0.0023 - acc: 0.7553 - val_loss: 0.0020 - val_acc: 0.8150\n",
      "Epoch 17/200\n",
      "14/14 [==============================] - 1s 59ms/step - loss: 0.0023 - acc: 0.7605 - val_loss: 0.0019 - val_acc: 0.8275\n",
      "Epoch 18/200\n",
      "14/14 [==============================] - 1s 59ms/step - loss: 0.0022 - acc: 0.7721 - val_loss: 0.0019 - val_acc: 0.8150\n",
      "Epoch 19/200\n",
      "14/14 [==============================] - 1s 59ms/step - loss: 0.0023 - acc: 0.7606 - val_loss: 0.0018 - val_acc: 0.8250\n",
      "Epoch 20/200\n",
      "14/14 [==============================] - 1s 58ms/step - loss: 0.0023 - acc: 0.7645 - val_loss: 0.0019 - val_acc: 0.7975\n",
      "Epoch 21/200\n",
      "14/14 [==============================] - 1s 58ms/step - loss: 0.0021 - acc: 0.7847 - val_loss: 0.0018 - val_acc: 0.8300\n",
      "Epoch 22/200\n",
      "14/14 [==============================] - 1s 59ms/step - loss: 0.0022 - acc: 0.7801 - val_loss: 0.0018 - val_acc: 0.8262\n",
      "Epoch 23/200\n",
      "14/14 [==============================] - 1s 59ms/step - loss: 0.0022 - acc: 0.7744 - val_loss: 0.0018 - val_acc: 0.8263\n",
      "Epoch 24/200\n",
      "14/14 [==============================] - 1s 58ms/step - loss: 0.0021 - acc: 0.7933 - val_loss: 0.0017 - val_acc: 0.8475\n",
      "Epoch 25/200\n",
      "14/14 [==============================] - 1s 59ms/step - loss: 0.0019 - acc: 0.8018 - val_loss: 0.0017 - val_acc: 0.8337\n",
      "Epoch 26/200\n",
      "14/14 [==============================] - 1s 59ms/step - loss: 0.0019 - acc: 0.8091 - val_loss: 0.0018 - val_acc: 0.8275\n",
      "Epoch 27/200\n",
      "14/14 [==============================] - 1s 59ms/step - loss: 0.0020 - acc: 0.7987 - val_loss: 0.0016 - val_acc: 0.8312\n",
      "Epoch 28/200\n",
      "14/14 [==============================] - 1s 58ms/step - loss: 0.0019 - acc: 0.8031 - val_loss: 0.0016 - val_acc: 0.8450\n",
      "Epoch 29/200\n",
      "14/14 [==============================] - 1s 58ms/step - loss: 0.0018 - acc: 0.8144 - val_loss: 0.0016 - val_acc: 0.8363\n",
      "Epoch 30/200\n",
      "14/14 [==============================] - 1s 60ms/step - loss: 0.0020 - acc: 0.7988 - val_loss: 0.0016 - val_acc: 0.8375\n",
      "Epoch 31/200\n",
      "14/14 [==============================] - 1s 63ms/step - loss: 0.0019 - acc: 0.8133 - val_loss: 0.0017 - val_acc: 0.8350\n",
      "Epoch 32/200\n",
      "14/14 [==============================] - 1s 59ms/step - loss: 0.0019 - acc: 0.8000 - val_loss: 0.0017 - val_acc: 0.8187\n",
      "Epoch 33/200\n",
      "14/14 [==============================] - 1s 59ms/step - loss: 0.0019 - acc: 0.8131 - val_loss: 0.0015 - val_acc: 0.8550\n",
      "Epoch 34/200\n",
      "14/14 [==============================] - 1s 59ms/step - loss: 0.0019 - acc: 0.8037 - val_loss: 0.0015 - val_acc: 0.8638\n",
      "Epoch 35/200\n",
      "14/14 [==============================] - 1s 59ms/step - loss: 0.0017 - acc: 0.8248 - val_loss: 0.0015 - val_acc: 0.8437\n",
      "Epoch 36/200\n",
      "14/14 [==============================] - 1s 59ms/step - loss: 0.0017 - acc: 0.8311 - val_loss: 0.0014 - val_acc: 0.8525\n",
      "Epoch 37/200\n",
      "14/14 [==============================] - 1s 58ms/step - loss: 0.0018 - acc: 0.8235 - val_loss: 0.0014 - val_acc: 0.8450\n",
      "Epoch 38/200\n",
      "14/14 [==============================] - 1s 59ms/step - loss: 0.0017 - acc: 0.8243 - val_loss: 0.0015 - val_acc: 0.8538\n",
      "Epoch 39/200\n",
      "14/14 [==============================] - 1s 59ms/step - loss: 0.0017 - acc: 0.8199 - val_loss: 0.0014 - val_acc: 0.8600\n",
      "Epoch 40/200\n",
      "14/14 [==============================] - 1s 59ms/step - loss: 0.0016 - acc: 0.8419 - val_loss: 0.0014 - val_acc: 0.8625\n",
      "Epoch 41/200\n",
      "14/14 [==============================] - 1s 58ms/step - loss: 0.0017 - acc: 0.8194 - val_loss: 0.0016 - val_acc: 0.8412\n",
      "Epoch 42/200\n",
      "14/14 [==============================] - 1s 59ms/step - loss: 0.0017 - acc: 0.8300 - val_loss: 0.0014 - val_acc: 0.8700\n",
      "Epoch 43/200\n",
      "14/14 [==============================] - 1s 59ms/step - loss: 0.0018 - acc: 0.8194 - val_loss: 0.0017 - val_acc: 0.8200\n",
      "Epoch 44/200\n",
      "14/14 [==============================] - 1s 59ms/step - loss: 0.0018 - acc: 0.8150 - val_loss: 0.0015 - val_acc: 0.8475\n",
      "Epoch 45/200\n",
      "14/14 [==============================] - 1s 60ms/step - loss: 0.0017 - acc: 0.8332 - val_loss: 0.0014 - val_acc: 0.8625\n",
      "Epoch 46/200\n",
      "14/14 [==============================] - 1s 62ms/step - loss: 0.0016 - acc: 0.8398 - val_loss: 0.0013 - val_acc: 0.8663\n",
      "Epoch 47/200\n",
      "14/14 [==============================] - 1s 59ms/step - loss: 0.0016 - acc: 0.8393 - val_loss: 0.0013 - val_acc: 0.8787\n",
      "Epoch 48/200\n",
      "14/14 [==============================] - 1s 59ms/step - loss: 0.0016 - acc: 0.8425 - val_loss: 0.0013 - val_acc: 0.8812\n",
      "Epoch 49/200\n",
      "14/14 [==============================] - 1s 59ms/step - loss: 0.0016 - acc: 0.8418 - val_loss: 0.0014 - val_acc: 0.8712\n",
      "Epoch 50/200\n",
      "14/14 [==============================] - 1s 58ms/step - loss: 0.0015 - acc: 0.8475 - val_loss: 0.0013 - val_acc: 0.8775\n",
      "Epoch 51/200\n",
      "14/14 [==============================] - 1s 58ms/step - loss: 0.0016 - acc: 0.8425 - val_loss: 0.0014 - val_acc: 0.8700\n",
      "Epoch 52/200\n",
      "14/14 [==============================] - 1s 59ms/step - loss: 0.0017 - acc: 0.8327 - val_loss: 0.0014 - val_acc: 0.8687\n",
      "Epoch 53/200\n",
      "14/14 [==============================] - 1s 58ms/step - loss: 0.0016 - acc: 0.8409 - val_loss: 0.0013 - val_acc: 0.8725\n",
      "Epoch 54/200\n",
      "14/14 [==============================] - 1s 60ms/step - loss: 0.0016 - acc: 0.8389 - val_loss: 0.0013 - val_acc: 0.8737\n",
      "Epoch 55/200\n",
      "14/14 [==============================] - 1s 59ms/step - loss: 0.0015 - acc: 0.8478 - val_loss: 0.0013 - val_acc: 0.8788\n",
      "Epoch 56/200\n",
      "14/14 [==============================] - 1s 58ms/step - loss: 0.0016 - acc: 0.8429 - val_loss: 0.0013 - val_acc: 0.8750\n",
      "Epoch 57/200\n",
      "14/14 [==============================] - 1s 58ms/step - loss: 0.0015 - acc: 0.8524 - val_loss: 0.0014 - val_acc: 0.8688\n",
      "Epoch 58/200\n",
      "14/14 [==============================] - 1s 59ms/step - loss: 0.0016 - acc: 0.8516 - val_loss: 0.0013 - val_acc: 0.8775\n",
      "Epoch 59/200\n",
      "14/14 [==============================] - 1s 58ms/step - loss: 0.0015 - acc: 0.8464 - val_loss: 0.0014 - val_acc: 0.8487\n",
      "Epoch 60/200\n",
      "14/14 [==============================] - 1s 60ms/step - loss: 0.0016 - acc: 0.8422 - val_loss: 0.0013 - val_acc: 0.8825\n",
      "Epoch 61/200\n",
      "14/14 [==============================] - 1s 62ms/step - loss: 0.0015 - acc: 0.8523 - val_loss: 0.0012 - val_acc: 0.8838\n",
      "Epoch 62/200\n"
     ]
    },
    {
     "name": "stdout",
     "output_type": "stream",
     "text": [
      "14/14 [==============================] - 1s 59ms/step - loss: 0.0015 - acc: 0.8556 - val_loss: 0.0012 - val_acc: 0.8887\n",
      "Epoch 63/200\n",
      "14/14 [==============================] - 1s 58ms/step - loss: 0.0014 - acc: 0.8594 - val_loss: 0.0013 - val_acc: 0.8700\n",
      "Epoch 64/200\n",
      "14/14 [==============================] - 1s 59ms/step - loss: 0.0014 - acc: 0.8533 - val_loss: 0.0012 - val_acc: 0.8775\n",
      "Epoch 65/200\n",
      "14/14 [==============================] - 1s 60ms/step - loss: 0.0015 - acc: 0.8536 - val_loss: 0.0012 - val_acc: 0.8775\n",
      "Epoch 66/200\n",
      "14/14 [==============================] - 1s 60ms/step - loss: 0.0014 - acc: 0.8572 - val_loss: 0.0013 - val_acc: 0.8700\n",
      "Epoch 67/200\n",
      "14/14 [==============================] - 1s 59ms/step - loss: 0.0015 - acc: 0.8553 - val_loss: 0.0012 - val_acc: 0.8813\n",
      "Epoch 68/200\n",
      "14/14 [==============================] - 1s 59ms/step - loss: 0.0015 - acc: 0.8496 - val_loss: 0.0013 - val_acc: 0.8712\n",
      "Epoch 69/200\n",
      "14/14 [==============================] - 1s 60ms/step - loss: 0.0015 - acc: 0.8515 - val_loss: 0.0012 - val_acc: 0.8875\n",
      "Epoch 70/200\n",
      "14/14 [==============================] - 1s 61ms/step - loss: 0.0013 - acc: 0.8615 - val_loss: 0.0012 - val_acc: 0.8850\n",
      "Epoch 71/200\n",
      "14/14 [==============================] - 1s 58ms/step - loss: 0.0015 - acc: 0.8470 - val_loss: 0.0013 - val_acc: 0.8750\n",
      "Epoch 72/200\n",
      "14/14 [==============================] - 1s 59ms/step - loss: 0.0013 - acc: 0.8673 - val_loss: 0.0012 - val_acc: 0.8837\n",
      "Epoch 73/200\n",
      "14/14 [==============================] - 1s 61ms/step - loss: 0.0014 - acc: 0.8631 - val_loss: 0.0012 - val_acc: 0.8937\n",
      "Epoch 74/200\n",
      "14/14 [==============================] - 1s 61ms/step - loss: 0.0014 - acc: 0.8579 - val_loss: 0.0012 - val_acc: 0.8975\n",
      "Epoch 75/200\n",
      "14/14 [==============================] - 1s 60ms/step - loss: 0.0014 - acc: 0.8625 - val_loss: 0.0011 - val_acc: 0.8988\n",
      "Epoch 76/200\n",
      "14/14 [==============================] - 1s 63ms/step - loss: 0.0014 - acc: 0.8633 - val_loss: 0.0013 - val_acc: 0.8787\n",
      "Epoch 77/200\n",
      "14/14 [==============================] - 1s 60ms/step - loss: 0.0013 - acc: 0.8589 - val_loss: 0.0012 - val_acc: 0.8937\n",
      "Epoch 78/200\n",
      "14/14 [==============================] - 1s 60ms/step - loss: 0.0013 - acc: 0.8632 - val_loss: 0.0012 - val_acc: 0.8762\n",
      "Epoch 79/200\n",
      "14/14 [==============================] - 1s 60ms/step - loss: 0.0013 - acc: 0.8688 - val_loss: 0.0012 - val_acc: 0.8862\n",
      "Epoch 80/200\n",
      "14/14 [==============================] - 1s 60ms/step - loss: 0.0014 - acc: 0.8600 - val_loss: 0.0013 - val_acc: 0.8663\n",
      "Epoch 81/200\n",
      "14/14 [==============================] - 1s 59ms/step - loss: 0.0014 - acc: 0.8564 - val_loss: 0.0013 - val_acc: 0.8650\n",
      "Epoch 82/200\n",
      "14/14 [==============================] - 1s 60ms/step - loss: 0.0013 - acc: 0.8699 - val_loss: 0.0012 - val_acc: 0.8925\n",
      "Epoch 83/200\n",
      "14/14 [==============================] - 1s 60ms/step - loss: 0.0013 - acc: 0.8771 - val_loss: 0.0014 - val_acc: 0.8575\n",
      "Epoch 84/200\n",
      "14/14 [==============================] - 1s 59ms/step - loss: 0.0014 - acc: 0.8600 - val_loss: 0.0012 - val_acc: 0.8788\n",
      "Epoch 85/200\n",
      "14/14 [==============================] - 1s 60ms/step - loss: 0.0013 - acc: 0.8683 - val_loss: 0.0013 - val_acc: 0.8750\n",
      "Epoch 86/200\n",
      "14/14 [==============================] - 1s 60ms/step - loss: 0.0013 - acc: 0.8631 - val_loss: 0.0014 - val_acc: 0.8675\n",
      "Epoch 87/200\n",
      "14/14 [==============================] - 1s 60ms/step - loss: 0.0013 - acc: 0.8686 - val_loss: 0.0012 - val_acc: 0.8812\n",
      "Epoch 88/200\n",
      "14/14 [==============================] - 1s 59ms/step - loss: 0.0013 - acc: 0.8740 - val_loss: 0.0012 - val_acc: 0.8850\n",
      "Epoch 89/200\n",
      "14/14 [==============================] - 1s 59ms/step - loss: 0.0013 - acc: 0.8757 - val_loss: 0.0013 - val_acc: 0.8712\n",
      "Epoch 90/200\n",
      "14/14 [==============================] - 1s 60ms/step - loss: 0.0013 - acc: 0.8695 - val_loss: 0.0012 - val_acc: 0.8900\n",
      "Epoch 91/200\n",
      "14/14 [==============================] - 1s 63ms/step - loss: 0.0013 - acc: 0.8700 - val_loss: 0.0013 - val_acc: 0.8700\n",
      "Epoch 92/200\n",
      "14/14 [==============================] - 1s 59ms/step - loss: 0.0013 - acc: 0.8662 - val_loss: 0.0013 - val_acc: 0.8800\n",
      "Epoch 93/200\n",
      "14/14 [==============================] - 1s 59ms/step - loss: 0.0012 - acc: 0.8788 - val_loss: 0.0012 - val_acc: 0.8850\n",
      "Epoch 94/200\n",
      "14/14 [==============================] - 1s 59ms/step - loss: 0.0013 - acc: 0.8750 - val_loss: 0.0012 - val_acc: 0.8888\n",
      "Epoch 95/200\n",
      "14/14 [==============================] - 1s 59ms/step - loss: 0.0012 - acc: 0.8751 - val_loss: 0.0013 - val_acc: 0.8812\n",
      "Epoch 96/200\n",
      "14/14 [==============================] - 1s 59ms/step - loss: 0.0012 - acc: 0.8744 - val_loss: 0.0011 - val_acc: 0.8963\n",
      "Epoch 97/200\n",
      "14/14 [==============================] - 1s 59ms/step - loss: 0.0012 - acc: 0.8775 - val_loss: 0.0012 - val_acc: 0.8762\n",
      "Epoch 98/200\n",
      "14/14 [==============================] - 1s 59ms/step - loss: 0.0013 - acc: 0.8784 - val_loss: 0.0012 - val_acc: 0.8850\n",
      "Epoch 99/200\n",
      "14/14 [==============================] - 1s 59ms/step - loss: 0.0014 - acc: 0.8722 - val_loss: 0.0012 - val_acc: 0.8912\n",
      "Epoch 100/200\n",
      "14/14 [==============================] - 1s 59ms/step - loss: 0.0012 - acc: 0.8764 - val_loss: 0.0012 - val_acc: 0.9012\n",
      "Epoch 101/200\n",
      "14/14 [==============================] - 1s 58ms/step - loss: 0.0012 - acc: 0.8824 - val_loss: 0.0012 - val_acc: 0.8937\n",
      "Epoch 102/200\n",
      "14/14 [==============================] - 1s 59ms/step - loss: 0.0012 - acc: 0.8851 - val_loss: 0.0012 - val_acc: 0.8950\n",
      "Epoch 103/200\n",
      "14/14 [==============================] - 1s 59ms/step - loss: 0.0013 - acc: 0.8710 - val_loss: 0.0014 - val_acc: 0.8613\n",
      "Epoch 104/200\n",
      "14/14 [==============================] - 1s 60ms/step - loss: 0.0012 - acc: 0.8771 - val_loss: 0.0011 - val_acc: 0.8900\n",
      "Epoch 105/200\n",
      "14/14 [==============================] - 1s 60ms/step - loss: 0.0012 - acc: 0.8778 - val_loss: 0.0013 - val_acc: 0.8750\n",
      "Epoch 106/200\n",
      "14/14 [==============================] - 1s 63ms/step - loss: 0.0013 - acc: 0.8725 - val_loss: 0.0012 - val_acc: 0.8925\n",
      "Epoch 107/200\n",
      "14/14 [==============================] - 1s 59ms/step - loss: 0.0013 - acc: 0.8705 - val_loss: 0.0012 - val_acc: 0.8838\n",
      "Epoch 108/200\n",
      "14/14 [==============================] - 1s 59ms/step - loss: 0.0012 - acc: 0.8808 - val_loss: 0.0012 - val_acc: 0.8925\n",
      "Epoch 109/200\n",
      "14/14 [==============================] - 1s 59ms/step - loss: 0.0012 - acc: 0.8826 - val_loss: 0.0012 - val_acc: 0.8825\n",
      "Epoch 110/200\n",
      "14/14 [==============================] - 1s 59ms/step - loss: 0.0013 - acc: 0.8741 - val_loss: 0.0011 - val_acc: 0.9012\n",
      "Epoch 111/200\n",
      "14/14 [==============================] - 1s 59ms/step - loss: 0.0013 - acc: 0.8686 - val_loss: 0.0011 - val_acc: 0.8912\n",
      "Epoch 112/200\n",
      "14/14 [==============================] - 1s 59ms/step - loss: 0.0013 - acc: 0.8759 - val_loss: 0.0011 - val_acc: 0.8925\n",
      "Epoch 113/200\n",
      "14/14 [==============================] - 1s 58ms/step - loss: 0.0012 - acc: 0.8792 - val_loss: 0.0011 - val_acc: 0.9012\n",
      "Epoch 114/200\n",
      "14/14 [==============================] - 1s 59ms/step - loss: 0.0012 - acc: 0.8826 - val_loss: 0.0011 - val_acc: 0.8975\n",
      "Epoch 115/200\n",
      "14/14 [==============================] - 1s 59ms/step - loss: 0.0012 - acc: 0.8785 - val_loss: 0.0012 - val_acc: 0.8713\n",
      "Epoch 116/200\n",
      "14/14 [==============================] - 1s 59ms/step - loss: 0.0012 - acc: 0.8837 - val_loss: 0.0012 - val_acc: 0.8900\n",
      "Epoch 117/200\n",
      "14/14 [==============================] - 1s 59ms/step - loss: 0.0011 - acc: 0.8919 - val_loss: 0.0012 - val_acc: 0.8788\n",
      "Epoch 118/200\n",
      "14/14 [==============================] - 1s 59ms/step - loss: 0.0012 - acc: 0.8831 - val_loss: 0.0012 - val_acc: 0.8738\n",
      "Epoch 119/200\n",
      "14/14 [==============================] - 1s 59ms/step - loss: 0.0011 - acc: 0.8865 - val_loss: 0.0012 - val_acc: 0.8875\n",
      "Epoch 120/200\n",
      "14/14 [==============================] - 1s 61ms/step - loss: 0.0011 - acc: 0.8918 - val_loss: 0.0014 - val_acc: 0.8638\n",
      "Epoch 121/200\n",
      "14/14 [==============================] - 1s 63ms/step - loss: 0.0012 - acc: 0.8867 - val_loss: 0.0012 - val_acc: 0.8888\n",
      "Epoch 122/200\n",
      "14/14 [==============================] - 1s 59ms/step - loss: 0.0011 - acc: 0.8896 - val_loss: 0.0012 - val_acc: 0.8900\n",
      "Epoch 123/200\n"
     ]
    },
    {
     "name": "stdout",
     "output_type": "stream",
     "text": [
      "14/14 [==============================] - 1s 59ms/step - loss: 0.0011 - acc: 0.8891 - val_loss: 0.0012 - val_acc: 0.8912\n",
      "Epoch 124/200\n",
      "14/14 [==============================] - 1s 60ms/step - loss: 0.0011 - acc: 0.8907 - val_loss: 0.0012 - val_acc: 0.8800\n",
      "Epoch 125/200\n",
      "14/14 [==============================] - 1s 59ms/step - loss: 0.0012 - acc: 0.8843 - val_loss: 0.0013 - val_acc: 0.8738\n",
      "Epoch 126/200\n",
      "14/14 [==============================] - 1s 58ms/step - loss: 0.0012 - acc: 0.8824 - val_loss: 0.0011 - val_acc: 0.9013\n",
      "Epoch 127/200\n",
      "14/14 [==============================] - 1s 60ms/step - loss: 0.0012 - acc: 0.8780 - val_loss: 0.0012 - val_acc: 0.8850\n",
      "Epoch 128/200\n",
      "14/14 [==============================] - 1s 59ms/step - loss: 0.0012 - acc: 0.8746 - val_loss: 0.0012 - val_acc: 0.8987\n",
      "Epoch 129/200\n",
      "14/14 [==============================] - 1s 59ms/step - loss: 0.0012 - acc: 0.8725 - val_loss: 0.0012 - val_acc: 0.8813\n",
      "Epoch 130/200\n",
      "14/14 [==============================] - 1s 60ms/step - loss: 0.0011 - acc: 0.8877 - val_loss: 0.0012 - val_acc: 0.8800\n",
      "Epoch 131/200\n",
      "14/14 [==============================] - 1s 60ms/step - loss: 0.0012 - acc: 0.8790 - val_loss: 0.0012 - val_acc: 0.8850\n",
      "Epoch 132/200\n",
      "14/14 [==============================] - 1s 60ms/step - loss: 0.0011 - acc: 0.8884 - val_loss: 0.0012 - val_acc: 0.8888\n",
      "Epoch 133/200\n",
      "14/14 [==============================] - 1s 60ms/step - loss: 0.0012 - acc: 0.8859 - val_loss: 0.0013 - val_acc: 0.8762\n",
      "Epoch 134/200\n",
      "14/14 [==============================] - 1s 59ms/step - loss: 0.0012 - acc: 0.8783 - val_loss: 0.0014 - val_acc: 0.8637\n",
      "Epoch 135/200\n",
      "14/14 [==============================] - 1s 61ms/step - loss: 0.0011 - acc: 0.8854 - val_loss: 0.0012 - val_acc: 0.8925\n",
      "Epoch 136/200\n",
      "14/14 [==============================] - 1s 63ms/step - loss: 0.0011 - acc: 0.8915 - val_loss: 0.0012 - val_acc: 0.8938\n",
      "Epoch 137/200\n",
      "14/14 [==============================] - 1s 61ms/step - loss: 0.0012 - acc: 0.8780 - val_loss: 0.0011 - val_acc: 0.8975\n",
      "Epoch 138/200\n",
      "14/14 [==============================] - 1s 60ms/step - loss: 0.0012 - acc: 0.8859 - val_loss: 0.0012 - val_acc: 0.8912\n",
      "Epoch 139/200\n",
      "14/14 [==============================] - 1s 60ms/step - loss: 0.0011 - acc: 0.8896 - val_loss: 0.0012 - val_acc: 0.8900\n",
      "Epoch 140/200\n",
      "14/14 [==============================] - 1s 60ms/step - loss: 0.0011 - acc: 0.8903 - val_loss: 0.0011 - val_acc: 0.9025\n",
      "Epoch 141/200\n",
      "14/14 [==============================] - 1s 59ms/step - loss: 0.0011 - acc: 0.8928 - val_loss: 0.0012 - val_acc: 0.8862\n",
      "Epoch 142/200\n",
      "14/14 [==============================] - 1s 60ms/step - loss: 0.0012 - acc: 0.8805 - val_loss: 0.0012 - val_acc: 0.8838\n",
      "Epoch 143/200\n",
      "14/14 [==============================] - 1s 59ms/step - loss: 0.0011 - acc: 0.8889 - val_loss: 0.0012 - val_acc: 0.8962\n",
      "Epoch 144/200\n",
      "14/14 [==============================] - 1s 61ms/step - loss: 0.0010 - acc: 0.9001 - val_loss: 0.0011 - val_acc: 0.8950\n",
      "Epoch 145/200\n",
      "14/14 [==============================] - 1s 60ms/step - loss: 0.0010 - acc: 0.8981 - val_loss: 0.0012 - val_acc: 0.9000\n",
      "Epoch 146/200\n",
      "14/14 [==============================] - 1s 59ms/step - loss: 0.0010 - acc: 0.8945 - val_loss: 0.0011 - val_acc: 0.8987\n",
      "Epoch 147/200\n",
      "14/14 [==============================] - 1s 59ms/step - loss: 0.0011 - acc: 0.8948 - val_loss: 0.0013 - val_acc: 0.8750\n",
      "Epoch 148/200\n",
      "14/14 [==============================] - 1s 60ms/step - loss: 0.0012 - acc: 0.8903 - val_loss: 0.0012 - val_acc: 0.8963\n",
      "Epoch 149/200\n",
      "14/14 [==============================] - 1s 59ms/step - loss: 0.0011 - acc: 0.8890 - val_loss: 0.0012 - val_acc: 0.8787\n",
      "Epoch 150/200\n",
      "14/14 [==============================] - 1s 60ms/step - loss: 0.0011 - acc: 0.8896 - val_loss: 0.0011 - val_acc: 0.9062\n",
      "Epoch 151/200\n",
      "14/14 [==============================] - 1s 63ms/step - loss: 0.0011 - acc: 0.8908 - val_loss: 0.0012 - val_acc: 0.8888\n",
      "Epoch 152/200\n",
      "14/14 [==============================] - 1s 60ms/step - loss: 0.0011 - acc: 0.8968 - val_loss: 0.0011 - val_acc: 0.8937\n",
      "Epoch 153/200\n",
      "14/14 [==============================] - 1s 59ms/step - loss: 0.0011 - acc: 0.8869 - val_loss: 0.0012 - val_acc: 0.8950\n",
      "Epoch 154/200\n",
      "14/14 [==============================] - 1s 59ms/step - loss: 0.0012 - acc: 0.8790 - val_loss: 0.0011 - val_acc: 0.8975\n",
      "Epoch 155/200\n",
      "14/14 [==============================] - 1s 59ms/step - loss: 0.0010 - acc: 0.8964 - val_loss: 0.0012 - val_acc: 0.8888\n",
      "Epoch 156/200\n",
      "14/14 [==============================] - 1s 60ms/step - loss: 0.0010 - acc: 0.8990 - val_loss: 0.0013 - val_acc: 0.8725\n",
      "Epoch 157/200\n",
      "14/14 [==============================] - 1s 59ms/step - loss: 0.0011 - acc: 0.8961 - val_loss: 0.0011 - val_acc: 0.9075\n",
      "Epoch 158/200\n",
      "14/14 [==============================] - 1s 59ms/step - loss: 0.0011 - acc: 0.8942 - val_loss: 0.0012 - val_acc: 0.8937\n",
      "Epoch 159/200\n",
      "14/14 [==============================] - 1s 59ms/step - loss: 9.9633e-04 - acc: 0.9005 - val_loss: 0.0012 - val_acc: 0.9000\n",
      "Epoch 160/200\n",
      "14/14 [==============================] - 1s 59ms/step - loss: 0.0011 - acc: 0.8879 - val_loss: 0.0012 - val_acc: 0.8988\n",
      "Epoch 161/200\n",
      "14/14 [==============================] - 1s 59ms/step - loss: 0.0012 - acc: 0.8797 - val_loss: 0.0011 - val_acc: 0.9025\n",
      "Epoch 162/200\n",
      "14/14 [==============================] - 1s 60ms/step - loss: 0.0011 - acc: 0.8959 - val_loss: 0.0011 - val_acc: 0.8925\n",
      "Epoch 163/200\n",
      "14/14 [==============================] - 1s 59ms/step - loss: 0.0010 - acc: 0.9019 - val_loss: 0.0012 - val_acc: 0.8925\n",
      "Epoch 164/200\n",
      "14/14 [==============================] - 1s 59ms/step - loss: 0.0010 - acc: 0.8991 - val_loss: 0.0011 - val_acc: 0.8937\n",
      "Epoch 165/200\n",
      "14/14 [==============================] - 1s 61ms/step - loss: 0.0011 - acc: 0.8903 - val_loss: 0.0012 - val_acc: 0.9012\n",
      "Epoch 166/200\n",
      "14/14 [==============================] - 1s 64ms/step - loss: 0.0010 - acc: 0.8970 - val_loss: 0.0011 - val_acc: 0.9025\n",
      "Epoch 167/200\n",
      "14/14 [==============================] - 1s 61ms/step - loss: 0.0011 - acc: 0.8924 - val_loss: 0.0011 - val_acc: 0.9037\n",
      "Epoch 168/200\n",
      "14/14 [==============================] - 1s 60ms/step - loss: 0.0010 - acc: 0.8939 - val_loss: 0.0011 - val_acc: 0.9025\n",
      "Epoch 169/200\n",
      "14/14 [==============================] - 1s 60ms/step - loss: 0.0010 - acc: 0.8955 - val_loss: 0.0012 - val_acc: 0.8800\n",
      "Epoch 170/200\n",
      "14/14 [==============================] - 1s 61ms/step - loss: 0.0011 - acc: 0.8960 - val_loss: 0.0011 - val_acc: 0.8863\n",
      "Epoch 171/200\n",
      "14/14 [==============================] - 1s 60ms/step - loss: 0.0010 - acc: 0.8984 - val_loss: 0.0011 - val_acc: 0.8950\n",
      "Epoch 172/200\n",
      "14/14 [==============================] - 1s 59ms/step - loss: 0.0010 - acc: 0.8995 - val_loss: 0.0011 - val_acc: 0.8962\n",
      "Epoch 173/200\n",
      "14/14 [==============================] - 1s 60ms/step - loss: 0.0010 - acc: 0.8995 - val_loss: 0.0011 - val_acc: 0.8975\n",
      "Epoch 174/200\n",
      "14/14 [==============================] - 1s 60ms/step - loss: 0.0010 - acc: 0.9053 - val_loss: 0.0012 - val_acc: 0.8888\n",
      "Epoch 175/200\n",
      "14/14 [==============================] - 1s 60ms/step - loss: 0.0010 - acc: 0.9036 - val_loss: 0.0011 - val_acc: 0.9012\n",
      "Epoch 176/200\n",
      "14/14 [==============================] - 1s 60ms/step - loss: 0.0011 - acc: 0.8933 - val_loss: 0.0011 - val_acc: 0.9162\n",
      "Epoch 177/200\n",
      "14/14 [==============================] - 1s 60ms/step - loss: 9.5241e-04 - acc: 0.9062 - val_loss: 0.0011 - val_acc: 0.9100\n",
      "Epoch 178/200\n",
      "14/14 [==============================] - 1s 60ms/step - loss: 9.9862e-04 - acc: 0.9026 - val_loss: 0.0012 - val_acc: 0.9038\n",
      "Epoch 179/200\n",
      "14/14 [==============================] - 1s 60ms/step - loss: 0.0010 - acc: 0.8931 - val_loss: 0.0012 - val_acc: 0.9012\n",
      "Epoch 180/200\n",
      "14/14 [==============================] - 1s 62ms/step - loss: 9.7240e-04 - acc: 0.8990 - val_loss: 0.0011 - val_acc: 0.9125\n",
      "Epoch 181/200\n",
      "14/14 [==============================] - 1s 64ms/step - loss: 0.0010 - acc: 0.8997 - val_loss: 0.0011 - val_acc: 0.9100\n",
      "Epoch 182/200\n",
      "14/14 [==============================] - 1s 60ms/step - loss: 8.9676e-04 - acc: 0.9114 - val_loss: 0.0012 - val_acc: 0.8962\n",
      "Epoch 183/200\n",
      "14/14 [==============================] - 1s 60ms/step - loss: 9.8004e-04 - acc: 0.9035 - val_loss: 0.0012 - val_acc: 0.8925\n",
      "Epoch 184/200\n"
     ]
    },
    {
     "name": "stdout",
     "output_type": "stream",
     "text": [
      "14/14 [==============================] - 1s 59ms/step - loss: 9.5426e-04 - acc: 0.9076 - val_loss: 0.0011 - val_acc: 0.9050\n",
      "Epoch 185/200\n",
      "14/14 [==============================] - 1s 59ms/step - loss: 9.6990e-04 - acc: 0.9060 - val_loss: 0.0012 - val_acc: 0.8987\n",
      "Epoch 186/200\n",
      "14/14 [==============================] - 1s 58ms/step - loss: 9.3027e-04 - acc: 0.9120 - val_loss: 0.0011 - val_acc: 0.8988\n",
      "Epoch 187/200\n",
      "14/14 [==============================] - 1s 58ms/step - loss: 9.2159e-04 - acc: 0.9032 - val_loss: 0.0013 - val_acc: 0.8900\n",
      "Epoch 188/200\n",
      "14/14 [==============================] - 1s 60ms/step - loss: 8.9437e-04 - acc: 0.9086 - val_loss: 0.0013 - val_acc: 0.8750\n",
      "Epoch 189/200\n",
      "14/14 [==============================] - 1s 60ms/step - loss: 9.5842e-04 - acc: 0.9074 - val_loss: 0.0011 - val_acc: 0.9062\n",
      "Epoch 190/200\n",
      "14/14 [==============================] - 1s 60ms/step - loss: 9.1244e-04 - acc: 0.9123 - val_loss: 0.0012 - val_acc: 0.9025\n",
      "Epoch 191/200\n",
      "14/14 [==============================] - 1s 59ms/step - loss: 9.7648e-04 - acc: 0.9082 - val_loss: 0.0013 - val_acc: 0.8837\n",
      "Epoch 192/200\n",
      "14/14 [==============================] - 1s 59ms/step - loss: 9.3223e-04 - acc: 0.9062 - val_loss: 0.0012 - val_acc: 0.9012\n",
      "Epoch 193/200\n",
      "14/14 [==============================] - 1s 59ms/step - loss: 8.9821e-04 - acc: 0.9032 - val_loss: 0.0011 - val_acc: 0.9062\n",
      "Epoch 194/200\n",
      "14/14 [==============================] - 1s 59ms/step - loss: 8.8545e-04 - acc: 0.9074 - val_loss: 0.0011 - val_acc: 0.9112\n",
      "Epoch 195/200\n",
      "14/14 [==============================] - 1s 60ms/step - loss: 9.0665e-04 - acc: 0.9095 - val_loss: 0.0012 - val_acc: 0.9087\n",
      "Epoch 196/200\n",
      "14/14 [==============================] - 1s 63ms/step - loss: 9.2811e-04 - acc: 0.9097 - val_loss: 0.0012 - val_acc: 0.8988\n",
      "Epoch 197/200\n",
      "14/14 [==============================] - 1s 59ms/step - loss: 8.8747e-04 - acc: 0.9083 - val_loss: 0.0012 - val_acc: 0.8987\n",
      "Epoch 198/200\n",
      "14/14 [==============================] - 1s 59ms/step - loss: 9.1047e-04 - acc: 0.9042 - val_loss: 0.0011 - val_acc: 0.9025\n",
      "Epoch 199/200\n",
      "14/14 [==============================] - 1s 59ms/step - loss: 9.0194e-04 - acc: 0.9121 - val_loss: 0.0011 - val_acc: 0.9088\n",
      "Epoch 200/200\n",
      "14/14 [==============================] - 1s 59ms/step - loss: 9.9114e-04 - acc: 0.9029 - val_loss: 0.0012 - val_acc: 0.8950\n"
     ]
    },
    {
     "data": {
      "text/plain": [
       "<tensorflow.python.keras.callbacks.History at 0x7f6cae4af3c8>"
      ]
     },
     "execution_count": 30,
     "metadata": {},
     "output_type": "execute_result"
    }
   ],
   "source": [
    "model.fit_generator(datagen.flow(X_train_shuffled, y_train_shuffled, batch_size=batch_size), epochs=n_epochs, verbose=1, steps_per_epoch=X_train_shuffled.shape[0]//batch_size, validation_data=(X_test, y_test))"
   ]
  },
  {
   "cell_type": "code",
   "execution_count": null,
   "metadata": {},
   "outputs": [],
   "source": []
  }
 ],
 "metadata": {
  "kernelspec": {
   "display_name": "Python [conda env:tensorflow]",
   "language": "python",
   "name": "conda-env-tensorflow-py"
  },
  "language_info": {
   "codemirror_mode": {
    "name": "ipython",
    "version": 3
   },
   "file_extension": ".py",
   "mimetype": "text/x-python",
   "name": "python",
   "nbconvert_exporter": "python",
   "pygments_lexer": "ipython3",
   "version": "3.6.6"
  }
 },
 "nbformat": 4,
 "nbformat_minor": 2
}
