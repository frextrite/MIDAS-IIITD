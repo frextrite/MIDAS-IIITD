{
 "cells": [
  {
   "cell_type": "markdown",
   "metadata": {},
   "source": [
    "# CV Problem - Image Classification"
   ]
  },
  {
   "cell_type": "code",
   "execution_count": 1,
   "metadata": {},
   "outputs": [],
   "source": [
    "from pickle import load # to load pickled files\n",
    "import numpy as np # for data manipulation\n",
    "import matplotlib.pyplot as plt # for displaying images"
   ]
  },
  {
   "cell_type": "code",
   "execution_count": 2,
   "metadata": {},
   "outputs": [],
   "source": [
    "# function that loads pickled files and returns the data\n",
    "def load_data(filename):\n",
    "    return load(open(filename, 'rb'))"
   ]
  },
  {
   "cell_type": "code",
   "execution_count": 3,
   "metadata": {},
   "outputs": [],
   "source": [
    "# variables\n",
    "fn_train_image = \"train_image.pkl\"\n",
    "fn_train_label = \"train_label.pkl\"\n",
    "fn_test_image = \"test_image.pkl\""
   ]
  },
  {
   "cell_type": "markdown",
   "metadata": {},
   "source": [
    "## Load train images"
   ]
  },
  {
   "cell_type": "code",
   "execution_count": 4,
   "metadata": {},
   "outputs": [],
   "source": [
    "# load training images\n",
    "train_images = load_data(fn_train_image)"
   ]
  },
  {
   "cell_type": "code",
   "execution_count": 5,
   "metadata": {},
   "outputs": [
    {
     "data": {
      "text/plain": [
       "8000"
      ]
     },
     "execution_count": 5,
     "metadata": {},
     "output_type": "execute_result"
    }
   ],
   "source": [
    "# find the length of train data\n",
    "len(train_images)"
   ]
  },
  {
   "cell_type": "code",
   "execution_count": 6,
   "metadata": {},
   "outputs": [],
   "source": [
    "# create num_images variable\n",
    "num_images = len(train_images)"
   ]
  },
  {
   "cell_type": "code",
   "execution_count": 7,
   "metadata": {},
   "outputs": [
    {
     "data": {
      "text/plain": [
       "784"
      ]
     },
     "execution_count": 7,
     "metadata": {},
     "output_type": "execute_result"
    }
   ],
   "source": [
    "# sneak-peak\n",
    "len(train_images[0])"
   ]
  },
  {
   "cell_type": "code",
   "execution_count": 8,
   "metadata": {
    "scrolled": true
   },
   "outputs": [
    {
     "data": {
      "text/plain": [
       "<matplotlib.image.AxesImage at 0x7f79a0380c50>"
      ]
     },
     "execution_count": 8,
     "metadata": {},
     "output_type": "execute_result"
    },
    {
     "data": {
      "image/png": "[encoded data removed]",
      "text/plain": [
       "<Figure size 432x288 with 1 Axes>"
      ]
     },
     "metadata": {},
     "output_type": "display_data"
    }
   ],
   "source": [
    "# display an image\n",
    "plt.imshow(np.array(train_images[8]).reshape((28, 28)))"
   ]
  },
  {
   "cell_type": "markdown",
   "metadata": {},
   "source": [
    "## Prepare train images"
   ]
  },
  {
   "cell_type": "code",
   "execution_count": 9,
   "metadata": {},
   "outputs": [],
   "source": [
    "_X_train = []"
   ]
  },
  {
   "cell_type": "code",
   "execution_count": 10,
   "metadata": {},
   "outputs": [],
   "source": [
    "# convert image array to numpy arrays and reshape them\n",
    "for i in range(len(train_images)):\n",
    "    curr_image = train_images[i]\n",
    "    curr_image_np = np.array(curr_image).reshape(28, 28, 1)\n",
    "    _X_train.append(curr_image_np)"
   ]
  },
  {
   "cell_type": "code",
   "execution_count": 11,
   "metadata": {},
   "outputs": [],
   "source": [
    "X_train = np.array(_X_train)\n",
    "X_train = X_train.astype('float32')\n",
    "X_train = X_train / 255.0"
   ]
  },
  {
   "cell_type": "code",
   "execution_count": 12,
   "metadata": {},
   "outputs": [
    {
     "data": {
      "text/plain": [
       "<matplotlib.image.AxesImage at 0x7f79a01d07f0>"
      ]
     },
     "execution_count": 12,
     "metadata": {},
     "output_type": "execute_result"
    },
    {
     "data": {
      "image/png": "[encoded data removed]",
      "text/plain": [
       "<Figure size 432x288 with 1 Axes>"
      ]
     },
     "metadata": {},
     "output_type": "display_data"
    }
   ],
   "source": [
    "# sneak-peak to check if everything is ok\n",
    "plt.imshow(X_train[8].reshape(28, 28))"
   ]
  },
  {
   "cell_type": "markdown",
   "metadata": {},
   "source": [
    "## Load train labels"
   ]
  },
  {
   "cell_type": "code",
   "execution_count": 13,
   "metadata": {},
   "outputs": [],
   "source": [
    "# load train labels\n",
    "_train_labels = load_data(fn_train_label)"
   ]
  },
  {
   "cell_type": "code",
   "execution_count": 14,
   "metadata": {},
   "outputs": [],
   "source": [
    "# assert length\n",
    "assert len(_train_labels) == num_images"
   ]
  },
  {
   "cell_type": "code",
   "execution_count": 15,
   "metadata": {},
   "outputs": [
    {
     "data": {
      "text/plain": [
       "6"
      ]
     },
     "execution_count": 15,
     "metadata": {},
     "output_type": "execute_result"
    }
   ],
   "source": [
    "# find number of classes\n",
    "max_class_id = max(_train_labels)\n",
    "max_class_id"
   ]
  },
  {
   "cell_type": "markdown",
   "metadata": {},
   "source": [
    "Number of classes present are 7"
   ]
  },
  {
   "cell_type": "code",
   "execution_count": 16,
   "metadata": {},
   "outputs": [],
   "source": [
    "num_classes = 7"
   ]
  },
  {
   "cell_type": "markdown",
   "metadata": {},
   "source": [
    "## Find if classes are balanced or not"
   ]
  },
  {
   "cell_type": "code",
   "execution_count": 17,
   "metadata": {},
   "outputs": [],
   "source": [
    "classes = {0: 0, 1: 0, 2: 0, 3: 0, 4: 0, 5: 0, 6: 0}"
   ]
  },
  {
   "cell_type": "code",
   "execution_count": 18,
   "metadata": {},
   "outputs": [
    {
     "data": {
      "text/plain": [
       "{0: 2000, 1: 0, 2: 2000, 3: 2000, 4: 0, 5: 0, 6: 2000}"
      ]
     },
     "execution_count": 18,
     "metadata": {},
     "output_type": "execute_result"
    }
   ],
   "source": [
    "for label in _train_labels:\n",
    "    classes[label] += 1\n",
    "classes"
   ]
  },
  {
   "cell_type": "markdown",
   "metadata": {},
   "source": [
    "Train data contains 2000 images each of classes 0, 2, 3 and 6. Classes 1, 4 and 5 are not present."
   ]
  },
  {
   "cell_type": "markdown",
   "metadata": {},
   "source": [
    "## Let's fix this imbalance in this step"
   ]
  },
  {
   "cell_type": "code",
   "execution_count": 19,
   "metadata": {},
   "outputs": [],
   "source": [
    "num_classes = 4"
   ]
  },
  {
   "cell_type": "code",
   "execution_count": 20,
   "metadata": {},
   "outputs": [],
   "source": [
    "# create a mapping from new classes to old ones\n",
    "new_to_old = {0: 0, 1: 2, 2: 3, 3: 6}\n",
    "old_to_new = {new_to_old[key]: key for key in new_to_old.keys()}"
   ]
  },
  {
   "cell_type": "code",
   "execution_count": 21,
   "metadata": {},
   "outputs": [
    {
     "data": {
      "text/plain": [
       "({0: 0, 1: 2, 2: 3, 3: 6}, {0: 0, 2: 1, 3: 2, 6: 3})"
      ]
     },
     "execution_count": 21,
     "metadata": {},
     "output_type": "execute_result"
    }
   ],
   "source": [
    "new_to_old, old_to_new"
   ]
  },
  {
   "cell_type": "code",
   "execution_count": 22,
   "metadata": {},
   "outputs": [],
   "source": [
    "train_labels = np.zeros(shape=(len(_train_labels), ))\n",
    "for i in range(len(_train_labels)):\n",
    "    train_labels[i] = old_to_new[_train_labels[i]]"
   ]
  },
  {
   "cell_type": "code",
   "execution_count": 23,
   "metadata": {},
   "outputs": [
    {
     "data": {
      "text/plain": [
       "([2, 2, 2, 2, 2, 2, 2, 2, 2, 2, 2, 2, 2, 2, 2, 2, 2, 2, 2, 2],\n",
       " array([1., 1., 1., 1., 1., 1., 1., 1., 1., 1., 1., 1., 1., 1., 1., 1., 1.,\n",
       "        1., 1., 1.]))"
      ]
     },
     "execution_count": 23,
     "metadata": {},
     "output_type": "execute_result"
    }
   ],
   "source": [
    "# check first values\n",
    "_train_labels[3200:3220], train_labels[3200:3220]"
   ]
  },
  {
   "cell_type": "markdown",
   "metadata": {},
   "source": [
    "## Prepare model creation"
   ]
  },
  {
   "cell_type": "code",
   "execution_count": 24,
   "metadata": {},
   "outputs": [],
   "source": [
    "# we'll use keras for quick prototyping\n",
    "from tensorflow.keras.utils import to_categorical"
   ]
  },
  {
   "cell_type": "code",
   "execution_count": 25,
   "metadata": {},
   "outputs": [],
   "source": [
    "# create train labels\n",
    "y_train = []"
   ]
  },
  {
   "cell_type": "code",
   "execution_count": 26,
   "metadata": {},
   "outputs": [],
   "source": [
    "for i in range(num_images):\n",
    "    y_train.append(to_categorical(train_labels[i], num_classes))"
   ]
  },
  {
   "cell_type": "code",
   "execution_count": 27,
   "metadata": {},
   "outputs": [],
   "source": [
    "y_train = np.array(y_train)\n",
    "y_train = y_train.astype('float32')\n",
    "y_train = y_train / 255.0"
   ]
  },
  {
   "cell_type": "code",
   "execution_count": 28,
   "metadata": {},
   "outputs": [
    {
     "data": {
      "text/plain": [
       "(8000, 4)"
      ]
     },
     "execution_count": 28,
     "metadata": {},
     "output_type": "execute_result"
    }
   ],
   "source": [
    "# confirm y_train shape to be (?, 4)\n",
    "y_train.shape"
   ]
  },
  {
   "cell_type": "code",
   "execution_count": 29,
   "metadata": {},
   "outputs": [],
   "source": [
    "# imports for shuffling train data since the current data is ordered according to class\n",
    "from sklearn.utils import shuffle\n",
    "_X_train_shuffled, _y_train_shuffled = shuffle(X_train, y_train)"
   ]
  },
  {
   "cell_type": "code",
   "execution_count": 30,
   "metadata": {},
   "outputs": [],
   "source": [
    "# import for splitting data into train and validation\n",
    "from sklearn.model_selection import train_test_split\n",
    "X_train_shuffled, X_test, y_train_shuffled, y_test = train_test_split(_X_train_shuffled, _y_train_shuffled, test_size=0.1, random_state=42)"
   ]
  },
  {
   "cell_type": "markdown",
   "metadata": {},
   "source": [
    "## Data Augmentation"
   ]
  },
  {
   "cell_type": "code",
   "execution_count": 31,
   "metadata": {},
   "outputs": [],
   "source": [
    "from tensorflow.keras.preprocessing.image import ImageDataGenerator"
   ]
  },
  {
   "cell_type": "code",
   "execution_count": 32,
   "metadata": {},
   "outputs": [],
   "source": [
    "datagen = ImageDataGenerator(\n",
    "        featurewise_center=False,  # set input mean to 0 over the dataset\n",
    "        samplewise_center=False,  # set each sample mean to 0\n",
    "        featurewise_std_normalization=False,  # divide inputs by std of the dataset\n",
    "        samplewise_std_normalization=False,  # divide each input by its std\n",
    "        zca_whitening=False,  # apply ZCA whitening\n",
    "        rotation_range=10,  # randomly rotate images in the range (degrees, 0 to 180)\n",
    "        zoom_range = 0.1, # Randomly zoom image \n",
    "        width_shift_range=0.1,  # randomly shift images horizontally (fraction of total width)\n",
    "        height_shift_range=0.1,  # randomly shift images vertically (fraction of total height)\n",
    "        horizontal_flip=False,  # randomly flip images\n",
    "        vertical_flip=False)  # randomly flip images\n",
    "\n",
    "datagen.fit(X_train_shuffled)"
   ]
  },
  {
   "cell_type": "markdown",
   "metadata": {},
   "source": [
    "## Convolution Neural Network Model\n",
    "We'll implement a Deep CNN Model with regularization techniques"
   ]
  },
  {
   "cell_type": "code",
   "execution_count": 33,
   "metadata": {},
   "outputs": [],
   "source": [
    "# import keras model modules\n",
    "from tensorflow.keras.layers import Conv2D, MaxPooling2D\n",
    "from tensorflow.keras.layers import Dense, Dropout, Activation, Flatten, Input\n",
    "from tensorflow.keras.models import Model"
   ]
  },
  {
   "cell_type": "code",
   "execution_count": 34,
   "metadata": {
    "scrolled": true
   },
   "outputs": [
    {
     "name": "stdout",
     "output_type": "stream",
     "text": [
      "_________________________________________________________________\n",
      "Layer (type)                 Output Shape              Param #   \n",
      "=================================================================\n",
      "input_1 (InputLayer)         (None, 28, 28, 1)         0         \n",
      "_________________________________________________________________\n",
      "conv2d (Conv2D)              (None, 28, 28, 32)        320       \n",
      "_________________________________________________________________\n",
      "conv2d_1 (Conv2D)            (None, 28, 28, 32)        9248      \n",
      "_________________________________________________________________\n",
      "max_pooling2d (MaxPooling2D) (None, 14, 14, 32)        0         \n",
      "_________________________________________________________________\n",
      "dropout (Dropout)            (None, 14, 14, 32)        0         \n",
      "_________________________________________________________________\n",
      "conv2d_2 (Conv2D)            (None, 14, 14, 64)        18496     \n",
      "_________________________________________________________________\n",
      "conv2d_3 (Conv2D)            (None, 14, 14, 64)        36928     \n",
      "_________________________________________________________________\n",
      "max_pooling2d_1 (MaxPooling2 (None, 7, 7, 64)          0         \n",
      "_________________________________________________________________\n",
      "dropout_1 (Dropout)          (None, 7, 7, 64)          0         \n",
      "_________________________________________________________________\n",
      "flatten (Flatten)            (None, 3136)              0         \n",
      "_________________________________________________________________\n",
      "dense (Dense)                (None, 4)                 12548     \n",
      "=================================================================\n",
      "Total params: 77,540\n",
      "Trainable params: 77,540\n",
      "Non-trainable params: 0\n",
      "_________________________________________________________________\n"
     ]
    }
   ],
   "source": [
    "# define the model\n",
    "x = Input(shape=(28, 28, 1))\n",
    "conv1 = Conv2D(32, (3,3), padding='same', activation='relu')(x)\n",
    "conv2 = Conv2D(32, (3,3), padding='same', activation='relu')(conv1)\n",
    "conv2_maxpool = MaxPooling2D(pool_size=(2,2))(conv2)\n",
    "conv2_maxpool_dropout = Dropout(0.25)(conv2_maxpool)\n",
    "\n",
    "conv3 = Conv2D(64, (3,3), padding='same', activation='relu')(conv2_maxpool_dropout)\n",
    "conv4 = Conv2D(64, (3,3), padding='same', activation='relu')(conv3)\n",
    "conv4_maxpool = MaxPooling2D(pool_size=(2,2))(conv4)\n",
    "conv4_maxpool_dropout = Dropout(0.25)(conv4_maxpool)\n",
    "\n",
    "# conv5 = Conv2D(128, (3,3), padding='same', activation='relu')(conv4_maxpool_dropout)\n",
    "# conv6 = Conv2D(128, (3,3), padding='same', activation='relu')(conv5)\n",
    "# conv6_maxpool = MaxPooling2D(pool_size=(2,2))(conv6)\n",
    "# conv6_maxpool_dropout = Dropout(0.25)(conv6_maxpool)\n",
    "\n",
    "flatten = Flatten()(conv4_maxpool_dropout)\n",
    "# fc1 = Dense(512, activation='relu')(flatten)\n",
    "# fc1_dropout = Dropout(0.5)(fc1)\n",
    "fc3 = Dense(num_classes, activation='softmax')(flatten)\n",
    "\n",
    "model = Model(inputs=x, outputs=fc3)\n",
    "model.summary()"
   ]
  },
  {
   "cell_type": "markdown",
   "metadata": {},
   "source": [
    "## Extra Model Configuration"
   ]
  },
  {
   "cell_type": "code",
   "execution_count": 35,
   "metadata": {},
   "outputs": [],
   "source": [
    "from tensorflow.keras.callbacks import ModelCheckpoint # for saving the best model"
   ]
  },
  {
   "cell_type": "code",
   "execution_count": 36,
   "metadata": {},
   "outputs": [],
   "source": [
    "# name of the saved weights file\n",
    "weights_file = \"./weights/weights-loss-{val_loss:.4f}-acc-{val_acc:.4f}-epoch-{epoch}.h5\""
   ]
  },
  {
   "cell_type": "code",
   "execution_count": 37,
   "metadata": {},
   "outputs": [],
   "source": [
    "# saves the model with lowest loss to a weights file\n",
    "checkpoint = ModelCheckpoint(weights_file, monitor='val_loss', verbose=1, save_weights_only=True)\n",
    "callbacks_list = [checkpoint]"
   ]
  },
  {
   "cell_type": "markdown",
   "metadata": {},
   "source": [
    "## Compile Model\n",
    "Compile the model with\n",
    "1. loss function as categorical crossentropy\n",
    "2. optimizer as Adam\n",
    "3. metric as accuracy"
   ]
  },
  {
   "cell_type": "code",
   "execution_count": 38,
   "metadata": {},
   "outputs": [],
   "source": [
    "model.compile(loss='categorical_crossentropy', optimizer='adam', metrics=['accuracy'])"
   ]
  },
  {
   "cell_type": "markdown",
   "metadata": {},
   "source": [
    "### Model Hyper-parameters"
   ]
  },
  {
   "cell_type": "code",
   "execution_count": 39,
   "metadata": {},
   "outputs": [],
   "source": [
    "n_epochs = 200\n",
    "batch_size = 512"
   ]
  },
  {
   "cell_type": "markdown",
   "metadata": {},
   "source": [
    "Finally, it's time to train our model"
   ]
  },
  {
   "cell_type": "code",
   "execution_count": 40,
   "metadata": {},
   "outputs": [
    {
     "name": "stdout",
     "output_type": "stream",
     "text": [
      "Epoch 1/200\n",
      "13/14 [==========================>...] - ETA: 0s - loss: 0.0051 - acc: 0.3863\n",
      "Epoch 00001: saving model to ./weights/weights-loss-0.0033-acc-0.7050-epoch-1.h5\n",
      "14/14 [==============================] - 3s 237ms/step - loss: 0.0051 - acc: 0.4024 - val_loss: 0.0033 - val_acc: 0.7050\n",
      "Epoch 2/200\n",
      "13/14 [==========================>...] - ETA: 0s - loss: 0.0036 - acc: 0.5971\n",
      "Epoch 00002: saving model to ./weights/weights-loss-0.0028-acc-0.7113-epoch-2.h5\n",
      "14/14 [==============================] - 1s 62ms/step - loss: 0.0036 - acc: 0.5992 - val_loss: 0.0028 - val_acc: 0.7113\n",
      "Epoch 3/200\n",
      "13/14 [==========================>...] - ETA: 0s - loss: 0.0034 - acc: 0.6468\n",
      "Epoch 00003: saving model to ./weights/weights-loss-0.0026-acc-0.7225-epoch-3.h5\n",
      "14/14 [==============================] - 1s 64ms/step - loss: 0.0033 - acc: 0.6476 - val_loss: 0.0026 - val_acc: 0.7225\n",
      "Epoch 4/200\n",
      "13/14 [==========================>...] - ETA: 0s - loss: 0.0031 - acc: 0.6675\n",
      "Epoch 00004: saving model to ./weights/weights-loss-0.0025-acc-0.7275-epoch-4.h5\n",
      "14/14 [==============================] - 1s 56ms/step - loss: 0.0031 - acc: 0.6671 - val_loss: 0.0025 - val_acc: 0.7275\n",
      "Epoch 5/200\n",
      "13/14 [==========================>...] - ETA: 0s - loss: 0.0030 - acc: 0.6752\n",
      "Epoch 00005: saving model to ./weights/weights-loss-0.0024-acc-0.7400-epoch-5.h5\n",
      "14/14 [==============================] - 1s 60ms/step - loss: 0.0030 - acc: 0.6756 - val_loss: 0.0024 - val_acc: 0.7400\n",
      "Epoch 6/200\n",
      "13/14 [==========================>...] - ETA: 0s - loss: 0.0028 - acc: 0.7004\n",
      "Epoch 00006: saving model to ./weights/weights-loss-0.0025-acc-0.7300-epoch-6.h5\n",
      "14/14 [==============================] - 1s 64ms/step - loss: 0.0029 - acc: 0.6996 - val_loss: 0.0025 - val_acc: 0.7300\n",
      "Epoch 7/200\n",
      "13/14 [==========================>...] - ETA: 0s - loss: 0.0029 - acc: 0.6940\n",
      "Epoch 00007: saving model to ./weights/weights-loss-0.0023-acc-0.7462-epoch-7.h5\n",
      "14/14 [==============================] - 1s 63ms/step - loss: 0.0029 - acc: 0.6973 - val_loss: 0.0023 - val_acc: 0.7462\n",
      "Epoch 8/200\n",
      "13/14 [==========================>...] - ETA: 0s - loss: 0.0028 - acc: 0.7094\n",
      "Epoch 00008: saving model to ./weights/weights-loss-0.0022-acc-0.7812-epoch-8.h5\n",
      "14/14 [==============================] - 1s 69ms/step - loss: 0.0028 - acc: 0.7099 - val_loss: 0.0022 - val_acc: 0.7812\n",
      "Epoch 9/200\n",
      "13/14 [==========================>...] - ETA: 0s - loss: 0.0028 - acc: 0.7028\n",
      "Epoch 00009: saving model to ./weights/weights-loss-0.0022-acc-0.7875-epoch-9.h5\n",
      "14/14 [==============================] - 1s 60ms/step - loss: 0.0028 - acc: 0.7062 - val_loss: 0.0022 - val_acc: 0.7875\n",
      "Epoch 10/200\n",
      "13/14 [==========================>...] - ETA: 0s - loss: 0.0027 - acc: 0.7172\n",
      "Epoch 00010: saving model to ./weights/weights-loss-0.0021-acc-0.7862-epoch-10.h5\n",
      "14/14 [==============================] - 1s 60ms/step - loss: 0.0027 - acc: 0.7190 - val_loss: 0.0021 - val_acc: 0.7862\n",
      "Epoch 11/200\n",
      "13/14 [==========================>...] - ETA: 0s - loss: 0.0026 - acc: 0.7365\n",
      "Epoch 00011: saving model to ./weights/weights-loss-0.0020-acc-0.8087-epoch-11.h5\n",
      "14/14 [==============================] - 1s 59ms/step - loss: 0.0026 - acc: 0.7352 - val_loss: 0.0020 - val_acc: 0.8087\n",
      "Epoch 12/200\n",
      "13/14 [==========================>...] - ETA: 0s - loss: 0.0025 - acc: 0.7438\n",
      "Epoch 00012: saving model to ./weights/weights-loss-0.0020-acc-0.8000-epoch-12.h5\n",
      "14/14 [==============================] - 1s 62ms/step - loss: 0.0025 - acc: 0.7428 - val_loss: 0.0020 - val_acc: 0.8000\n",
      "Epoch 13/200\n",
      "13/14 [==========================>...] - ETA: 0s - loss: 0.0026 - acc: 0.7314\n",
      "Epoch 00013: saving model to ./weights/weights-loss-0.0019-acc-0.8163-epoch-13.h5\n",
      "14/14 [==============================] - 1s 65ms/step - loss: 0.0026 - acc: 0.7306 - val_loss: 0.0019 - val_acc: 0.8163\n",
      "Epoch 14/200\n",
      "13/14 [==========================>...] - ETA: 0s - loss: 0.0026 - acc: 0.7344\n",
      "Epoch 00014: saving model to ./weights/weights-loss-0.0019-acc-0.8075-epoch-14.h5\n",
      "14/14 [==============================] - 1s 62ms/step - loss: 0.0026 - acc: 0.7344 - val_loss: 0.0019 - val_acc: 0.8075\n",
      "Epoch 15/200\n",
      "13/14 [==========================>...] - ETA: 0s - loss: 0.0025 - acc: 0.7435\n",
      "Epoch 00015: saving model to ./weights/weights-loss-0.0019-acc-0.8125-epoch-15.h5\n",
      "14/14 [==============================] - 1s 58ms/step - loss: 0.0024 - acc: 0.7523 - val_loss: 0.0019 - val_acc: 0.8125\n",
      "Epoch 16/200\n",
      "13/14 [==========================>...] - ETA: 0s - loss: 0.0024 - acc: 0.7572\n",
      "Epoch 00016: saving model to ./weights/weights-loss-0.0019-acc-0.8125-epoch-16.h5\n",
      "14/14 [==============================] - 1s 65ms/step - loss: 0.0024 - acc: 0.7553 - val_loss: 0.0019 - val_acc: 0.8125\n",
      "Epoch 17/200\n",
      "13/14 [==========================>...] - ETA: 0s - loss: 0.0024 - acc: 0.7508\n",
      "Epoch 00017: saving model to ./weights/weights-loss-0.0018-acc-0.8250-epoch-17.h5\n",
      "14/14 [==============================] - 1s 64ms/step - loss: 0.0024 - acc: 0.7509 - val_loss: 0.0018 - val_acc: 0.8250\n",
      "Epoch 18/200\n",
      "13/14 [==========================>...] - ETA: 0s - loss: 0.0024 - acc: 0.7453\n",
      "Epoch 00018: saving model to ./weights/weights-loss-0.0018-acc-0.8375-epoch-18.h5\n",
      "14/14 [==============================] - 1s 74ms/step - loss: 0.0024 - acc: 0.7476 - val_loss: 0.0018 - val_acc: 0.8375\n",
      "Epoch 19/200\n",
      "13/14 [==========================>...] - ETA: 0s - loss: 0.0023 - acc: 0.7617\n",
      "Epoch 00019: saving model to ./weights/weights-loss-0.0017-acc-0.8438-epoch-19.h5\n",
      "14/14 [==============================] - 1s 67ms/step - loss: 0.0023 - acc: 0.7618 - val_loss: 0.0017 - val_acc: 0.8438\n",
      "Epoch 20/200\n",
      "13/14 [==========================>...] - ETA: 0s - loss: 0.0024 - acc: 0.7662\n",
      "Epoch 00020: saving model to ./weights/weights-loss-0.0018-acc-0.8125-epoch-20.h5\n",
      "14/14 [==============================] - 1s 71ms/step - loss: 0.0024 - acc: 0.7636 - val_loss: 0.0018 - val_acc: 0.8125\n",
      "Epoch 21/200\n",
      "13/14 [==========================>...] - ETA: 0s - loss: 0.0023 - acc: 0.7710\n",
      "Epoch 00021: saving model to ./weights/weights-loss-0.0017-acc-0.8375-epoch-21.h5\n",
      "14/14 [==============================] - 1s 63ms/step - loss: 0.0023 - acc: 0.7712 - val_loss: 0.0017 - val_acc: 0.8375\n",
      "Epoch 22/200\n",
      "13/14 [==========================>...] - ETA: 0s - loss: 0.0023 - acc: 0.7670\n",
      "Epoch 00022: saving model to ./weights/weights-loss-0.0016-acc-0.8437-epoch-22.h5\n",
      "14/14 [==============================] - 1s 60ms/step - loss: 0.0023 - acc: 0.7653 - val_loss: 0.0016 - val_acc: 0.8437\n",
      "Epoch 23/200\n",
      "13/14 [==========================>...] - ETA: 0s - loss: 0.0022 - acc: 0.7763\n",
      "Epoch 00023: saving model to ./weights/weights-loss-0.0019-acc-0.8137-epoch-23.h5\n",
      "14/14 [==============================] - 1s 58ms/step - loss: 0.0022 - acc: 0.7766 - val_loss: 0.0019 - val_acc: 0.8137\n",
      "Epoch 24/200\n",
      "13/14 [==========================>...] - ETA: 0s - loss: 0.0023 - acc: 0.7665\n",
      "Epoch 00024: saving model to ./weights/weights-loss-0.0017-acc-0.8313-epoch-24.h5\n",
      "14/14 [==============================] - 1s 62ms/step - loss: 0.0023 - acc: 0.7658 - val_loss: 0.0017 - val_acc: 0.8313\n",
      "Epoch 25/200\n",
      "13/14 [==========================>...] - ETA: 0s - loss: 0.0023 - acc: 0.7703\n",
      "Epoch 00025: saving model to ./weights/weights-loss-0.0017-acc-0.8425-epoch-25.h5\n",
      "14/14 [==============================] - 1s 60ms/step - loss: 0.0023 - acc: 0.7675 - val_loss: 0.0017 - val_acc: 0.8425\n",
      "Epoch 26/200\n",
      "13/14 [==========================>...] - ETA: 0s - loss: 0.0021 - acc: 0.7904\n",
      "Epoch 00026: saving model to ./weights/weights-loss-0.0017-acc-0.8288-epoch-26.h5\n",
      "14/14 [==============================] - 1s 69ms/step - loss: 0.0021 - acc: 0.7905 - val_loss: 0.0017 - val_acc: 0.8288\n",
      "Epoch 27/200\n",
      "12/14 [========================>.....] - ETA: 0s - loss: 0.0021 - acc: 0.7904\n",
      "Epoch 00027: saving model to ./weights/weights-loss-0.0015-acc-0.8475-epoch-27.h5\n",
      "14/14 [==============================] - 1s 59ms/step - loss: 0.0021 - acc: 0.7859 - val_loss: 0.0015 - val_acc: 0.8475\n",
      "Epoch 28/200\n",
      "13/14 [==========================>...] - ETA: 0s - loss: 0.0020 - acc: 0.7961\n",
      "Epoch 00028: saving model to ./weights/weights-loss-0.0015-acc-0.8400-epoch-28.h5\n",
      "14/14 [==============================] - 1s 62ms/step - loss: 0.0020 - acc: 0.7949 - val_loss: 0.0015 - val_acc: 0.8400\n",
      "Epoch 29/200\n"
     ]
    },
    {
     "name": "stdout",
     "output_type": "stream",
     "text": [
      "13/14 [==========================>...] - ETA: 0s - loss: 0.0021 - acc: 0.7915\n",
      "Epoch 00029: saving model to ./weights/weights-loss-0.0015-acc-0.8500-epoch-29.h5\n",
      "14/14 [==============================] - 1s 65ms/step - loss: 0.0021 - acc: 0.7937 - val_loss: 0.0015 - val_acc: 0.8500\n",
      "Epoch 30/200\n",
      "13/14 [==========================>...] - ETA: 0s - loss: 0.0020 - acc: 0.7987\n",
      "Epoch 00030: saving model to ./weights/weights-loss-0.0015-acc-0.8650-epoch-30.h5\n",
      "14/14 [==============================] - 1s 60ms/step - loss: 0.0020 - acc: 0.7996 - val_loss: 0.0015 - val_acc: 0.8650\n",
      "Epoch 31/200\n",
      "13/14 [==========================>...] - ETA: 0s - loss: 0.0021 - acc: 0.7916\n",
      "Epoch 00031: saving model to ./weights/weights-loss-0.0015-acc-0.8650-epoch-31.h5\n",
      "14/14 [==============================] - 1s 58ms/step - loss: 0.0021 - acc: 0.7912 - val_loss: 0.0015 - val_acc: 0.8650\n",
      "Epoch 32/200\n",
      "13/14 [==========================>...] - ETA: 0s - loss: 0.0020 - acc: 0.8029\n",
      "Epoch 00032: saving model to ./weights/weights-loss-0.0014-acc-0.8662-epoch-32.h5\n",
      "14/14 [==============================] - 1s 62ms/step - loss: 0.0020 - acc: 0.8020 - val_loss: 0.0014 - val_acc: 0.8662\n",
      "Epoch 33/200\n",
      "13/14 [==========================>...] - ETA: 0s - loss: 0.0020 - acc: 0.8044\n",
      "Epoch 00033: saving model to ./weights/weights-loss-0.0014-acc-0.8588-epoch-33.h5\n",
      "14/14 [==============================] - 1s 59ms/step - loss: 0.0020 - acc: 0.8058 - val_loss: 0.0014 - val_acc: 0.8588\n",
      "Epoch 34/200\n",
      "13/14 [==========================>...] - ETA: 0s - loss: 0.0019 - acc: 0.8071\n",
      "Epoch 00034: saving model to ./weights/weights-loss-0.0014-acc-0.8562-epoch-34.h5\n",
      "14/14 [==============================] - 1s 66ms/step - loss: 0.0019 - acc: 0.8050 - val_loss: 0.0014 - val_acc: 0.8562\n",
      "Epoch 35/200\n",
      "13/14 [==========================>...] - ETA: 0s - loss: 0.0020 - acc: 0.8035\n",
      "Epoch 00035: saving model to ./weights/weights-loss-0.0014-acc-0.8675-epoch-35.h5\n",
      "14/14 [==============================] - 1s 56ms/step - loss: 0.0020 - acc: 0.8017 - val_loss: 0.0014 - val_acc: 0.8675\n",
      "Epoch 36/200\n",
      "13/14 [==========================>...] - ETA: 0s - loss: 0.0019 - acc: 0.8080\n",
      "Epoch 00036: saving model to ./weights/weights-loss-0.0014-acc-0.8713-epoch-36.h5\n",
      "14/14 [==============================] - 1s 64ms/step - loss: 0.0019 - acc: 0.8100 - val_loss: 0.0014 - val_acc: 0.8713\n",
      "Epoch 37/200\n",
      "13/14 [==========================>...] - ETA: 0s - loss: 0.0019 - acc: 0.8221\n",
      "Epoch 00037: saving model to ./weights/weights-loss-0.0014-acc-0.8587-epoch-37.h5\n",
      "14/14 [==============================] - 1s 71ms/step - loss: 0.0019 - acc: 0.8223 - val_loss: 0.0014 - val_acc: 0.8587\n",
      "Epoch 38/200\n",
      "13/14 [==========================>...] - ETA: 0s - loss: 0.0020 - acc: 0.7994\n",
      "Epoch 00038: saving model to ./weights/weights-loss-0.0014-acc-0.8662-epoch-38.h5\n",
      "14/14 [==============================] - 1s 57ms/step - loss: 0.0019 - acc: 0.8089 - val_loss: 0.0014 - val_acc: 0.8662\n",
      "Epoch 39/200\n",
      "13/14 [==========================>...] - ETA: 0s - loss: 0.0019 - acc: 0.8182\n",
      "Epoch 00039: saving model to ./weights/weights-loss-0.0014-acc-0.8538-epoch-39.h5\n",
      "14/14 [==============================] - 1s 58ms/step - loss: 0.0019 - acc: 0.8174 - val_loss: 0.0014 - val_acc: 0.8538\n",
      "Epoch 40/200\n",
      "13/14 [==========================>...] - ETA: 0s - loss: 0.0019 - acc: 0.8151\n",
      "Epoch 00040: saving model to ./weights/weights-loss-0.0014-acc-0.8600-epoch-40.h5\n",
      "14/14 [==============================] - 1s 69ms/step - loss: 0.0019 - acc: 0.8140 - val_loss: 0.0014 - val_acc: 0.8600\n",
      "Epoch 41/200\n",
      "13/14 [==========================>...] - ETA: 0s - loss: 0.0019 - acc: 0.8170\n",
      "Epoch 00041: saving model to ./weights/weights-loss-0.0014-acc-0.8675-epoch-41.h5\n",
      "14/14 [==============================] - 1s 59ms/step - loss: 0.0019 - acc: 0.8166 - val_loss: 0.0014 - val_acc: 0.8675\n",
      "Epoch 42/200\n",
      "13/14 [==========================>...] - ETA: 0s - loss: 0.0018 - acc: 0.8287\n",
      "Epoch 00042: saving model to ./weights/weights-loss-0.0015-acc-0.8450-epoch-42.h5\n",
      "14/14 [==============================] - 1s 65ms/step - loss: 0.0018 - acc: 0.8275 - val_loss: 0.0015 - val_acc: 0.8450\n",
      "Epoch 43/200\n",
      "13/14 [==========================>...] - ETA: 0s - loss: 0.0018 - acc: 0.8292\n",
      "Epoch 00043: saving model to ./weights/weights-loss-0.0014-acc-0.8700-epoch-43.h5\n",
      "14/14 [==============================] - 1s 65ms/step - loss: 0.0018 - acc: 0.8268 - val_loss: 0.0014 - val_acc: 0.8700\n",
      "Epoch 44/200\n",
      "13/14 [==========================>...] - ETA: 0s - loss: 0.0019 - acc: 0.8155\n",
      "Epoch 00044: saving model to ./weights/weights-loss-0.0013-acc-0.8712-epoch-44.h5\n",
      "14/14 [==============================] - 1s 64ms/step - loss: 0.0019 - acc: 0.8150 - val_loss: 0.0013 - val_acc: 0.8712\n",
      "Epoch 45/200\n",
      "13/14 [==========================>...] - ETA: 0s - loss: 0.0018 - acc: 0.8212\n",
      "Epoch 00045: saving model to ./weights/weights-loss-0.0013-acc-0.8788-epoch-45.h5\n",
      "14/14 [==============================] - 1s 60ms/step - loss: 0.0018 - acc: 0.8215 - val_loss: 0.0013 - val_acc: 0.8788\n",
      "Epoch 46/200\n",
      "13/14 [==========================>...] - ETA: 0s - loss: 0.0018 - acc: 0.8307\n",
      "Epoch 00046: saving model to ./weights/weights-loss-0.0013-acc-0.8762-epoch-46.h5\n",
      "14/14 [==============================] - 1s 63ms/step - loss: 0.0018 - acc: 0.8292 - val_loss: 0.0013 - val_acc: 0.8762\n",
      "Epoch 47/200\n",
      "13/14 [==========================>...] - ETA: 0s - loss: 0.0018 - acc: 0.8244\n",
      "Epoch 00047: saving model to ./weights/weights-loss-0.0014-acc-0.8725-epoch-47.h5\n",
      "14/14 [==============================] - 1s 63ms/step - loss: 0.0018 - acc: 0.8253 - val_loss: 0.0014 - val_acc: 0.8725\n",
      "Epoch 48/200\n",
      "13/14 [==========================>...] - ETA: 0s - loss: 0.0017 - acc: 0.8293\n",
      "Epoch 00048: saving model to ./weights/weights-loss-0.0014-acc-0.8612-epoch-48.h5\n",
      "14/14 [==============================] - 1s 66ms/step - loss: 0.0017 - acc: 0.8291 - val_loss: 0.0014 - val_acc: 0.8612\n",
      "Epoch 49/200\n",
      "13/14 [==========================>...] - ETA: 0s - loss: 0.0020 - acc: 0.8151\n",
      "Epoch 00049: saving model to ./weights/weights-loss-0.0015-acc-0.8500-epoch-49.h5\n",
      "14/14 [==============================] - 1s 56ms/step - loss: 0.0020 - acc: 0.8143 - val_loss: 0.0015 - val_acc: 0.8500\n",
      "Epoch 50/200\n",
      "13/14 [==========================>...] - ETA: 0s - loss: 0.0018 - acc: 0.8260\n",
      "Epoch 00050: saving model to ./weights/weights-loss-0.0013-acc-0.8750-epoch-50.h5\n",
      "14/14 [==============================] - 1s 66ms/step - loss: 0.0018 - acc: 0.8230 - val_loss: 0.0013 - val_acc: 0.8750\n",
      "Epoch 51/200\n",
      "13/14 [==========================>...] - ETA: 0s - loss: 0.0017 - acc: 0.8385\n",
      "Epoch 00051: saving model to ./weights/weights-loss-0.0014-acc-0.8588-epoch-51.h5\n",
      "14/14 [==============================] - 1s 66ms/step - loss: 0.0017 - acc: 0.8391 - val_loss: 0.0014 - val_acc: 0.8588\n",
      "Epoch 52/200\n",
      "13/14 [==========================>...] - ETA: 0s - loss: 0.0018 - acc: 0.8224\n",
      "Epoch 00052: saving model to ./weights/weights-loss-0.0013-acc-0.8762-epoch-52.h5\n",
      "14/14 [==============================] - 1s 67ms/step - loss: 0.0018 - acc: 0.8235 - val_loss: 0.0013 - val_acc: 0.8762\n",
      "Epoch 53/200\n",
      "13/14 [==========================>...] - ETA: 0s - loss: 0.0017 - acc: 0.8358\n",
      "Epoch 00053: saving model to ./weights/weights-loss-0.0013-acc-0.8775-epoch-53.h5\n",
      "14/14 [==============================] - 1s 68ms/step - loss: 0.0017 - acc: 0.8348 - val_loss: 0.0013 - val_acc: 0.8775\n",
      "Epoch 54/200\n",
      "13/14 [==========================>...] - ETA: 0s - loss: 0.0017 - acc: 0.8311\n",
      "Epoch 00054: saving model to ./weights/weights-loss-0.0013-acc-0.8750-epoch-54.h5\n",
      "14/14 [==============================] - 1s 60ms/step - loss: 0.0017 - acc: 0.8333 - val_loss: 0.0013 - val_acc: 0.8750\n",
      "Epoch 55/200\n",
      "13/14 [==========================>...] - ETA: 0s - loss: 0.0016 - acc: 0.8412\n",
      "Epoch 00055: saving model to ./weights/weights-loss-0.0013-acc-0.8775-epoch-55.h5\n",
      "14/14 [==============================] - 1s 71ms/step - loss: 0.0016 - acc: 0.8415 - val_loss: 0.0013 - val_acc: 0.8775\n",
      "Epoch 56/200\n",
      "13/14 [==========================>...] - ETA: 0s - loss: 0.0017 - acc: 0.8377\n",
      "Epoch 00056: saving model to ./weights/weights-loss-0.0014-acc-0.8637-epoch-56.h5\n",
      "14/14 [==============================] - 1s 56ms/step - loss: 0.0017 - acc: 0.8385 - val_loss: 0.0014 - val_acc: 0.8637\n",
      "Epoch 57/200\n"
     ]
    },
    {
     "name": "stdout",
     "output_type": "stream",
     "text": [
      "13/14 [==========================>...] - ETA: 0s - loss: 0.0017 - acc: 0.8356\n",
      "Epoch 00057: saving model to ./weights/weights-loss-0.0012-acc-0.8875-epoch-57.h5\n",
      "14/14 [==============================] - 1s 63ms/step - loss: 0.0017 - acc: 0.8371 - val_loss: 0.0012 - val_acc: 0.8875\n",
      "Epoch 58/200\n",
      "13/14 [==========================>...] - ETA: 0s - loss: 0.0017 - acc: 0.8304\n",
      "Epoch 00058: saving model to ./weights/weights-loss-0.0014-acc-0.8650-epoch-58.h5\n",
      "14/14 [==============================] - 1s 62ms/step - loss: 0.0017 - acc: 0.8306 - val_loss: 0.0014 - val_acc: 0.8650\n",
      "Epoch 59/200\n",
      "13/14 [==========================>...] - ETA: 0s - loss: 0.0017 - acc: 0.8257\n",
      "Epoch 00059: saving model to ./weights/weights-loss-0.0013-acc-0.8700-epoch-59.h5\n",
      "14/14 [==============================] - 1s 59ms/step - loss: 0.0017 - acc: 0.8273 - val_loss: 0.0013 - val_acc: 0.8700\n",
      "Epoch 60/200\n",
      "13/14 [==========================>...] - ETA: 0s - loss: 0.0017 - acc: 0.8322\n",
      "Epoch 00060: saving model to ./weights/weights-loss-0.0013-acc-0.8700-epoch-60.h5\n",
      "14/14 [==============================] - 1s 57ms/step - loss: 0.0017 - acc: 0.8333 - val_loss: 0.0013 - val_acc: 0.8700\n",
      "Epoch 61/200\n",
      "13/14 [==========================>...] - ETA: 0s - loss: 0.0017 - acc: 0.8362\n",
      "Epoch 00061: saving model to ./weights/weights-loss-0.0013-acc-0.8687-epoch-61.h5\n",
      "14/14 [==============================] - 1s 61ms/step - loss: 0.0017 - acc: 0.8359 - val_loss: 0.0013 - val_acc: 0.8687\n",
      "Epoch 62/200\n",
      "13/14 [==========================>...] - ETA: 0s - loss: 0.0017 - acc: 0.8418\n",
      "Epoch 00062: saving model to ./weights/weights-loss-0.0012-acc-0.8762-epoch-62.h5\n",
      "14/14 [==============================] - 1s 59ms/step - loss: 0.0017 - acc: 0.8425 - val_loss: 0.0012 - val_acc: 0.8762\n",
      "Epoch 63/200\n",
      "13/14 [==========================>...] - ETA: 0s - loss: 0.0016 - acc: 0.8410\n",
      "Epoch 00063: saving model to ./weights/weights-loss-0.0012-acc-0.8812-epoch-63.h5\n",
      "14/14 [==============================] - 1s 60ms/step - loss: 0.0016 - acc: 0.8418 - val_loss: 0.0012 - val_acc: 0.8812\n",
      "Epoch 64/200\n",
      "12/14 [========================>.....] - ETA: 0s - loss: 0.0016 - acc: 0.8438\n",
      "Epoch 00064: saving model to ./weights/weights-loss-0.0013-acc-0.8688-epoch-64.h5\n",
      "14/14 [==============================] - 1s 61ms/step - loss: 0.0016 - acc: 0.8415 - val_loss: 0.0013 - val_acc: 0.8688\n",
      "Epoch 65/200\n",
      "13/14 [==========================>...] - ETA: 0s - loss: 0.0017 - acc: 0.8337\n",
      "Epoch 00065: saving model to ./weights/weights-loss-0.0013-acc-0.8612-epoch-65.h5\n",
      "14/14 [==============================] - 1s 63ms/step - loss: 0.0017 - acc: 0.8336 - val_loss: 0.0013 - val_acc: 0.8612\n",
      "Epoch 66/200\n",
      "13/14 [==========================>...] - ETA: 0s - loss: 0.0015 - acc: 0.8483\n",
      "Epoch 00066: saving model to ./weights/weights-loss-0.0012-acc-0.8775-epoch-66.h5\n",
      "14/14 [==============================] - 1s 66ms/step - loss: 0.0015 - acc: 0.8475 - val_loss: 0.0012 - val_acc: 0.8775\n",
      "Epoch 67/200\n",
      "13/14 [==========================>...] - ETA: 0s - loss: 0.0017 - acc: 0.8272\n",
      "Epoch 00067: saving model to ./weights/weights-loss-0.0012-acc-0.8787-epoch-67.h5\n",
      "14/14 [==============================] - 1s 66ms/step - loss: 0.0017 - acc: 0.8299 - val_loss: 0.0012 - val_acc: 0.8787\n",
      "Epoch 68/200\n",
      "13/14 [==========================>...] - ETA: 0s - loss: 0.0016 - acc: 0.8457\n",
      "Epoch 00068: saving model to ./weights/weights-loss-0.0013-acc-0.8762-epoch-68.h5\n",
      "14/14 [==============================] - 1s 67ms/step - loss: 0.0016 - acc: 0.8440 - val_loss: 0.0013 - val_acc: 0.8762\n",
      "Epoch 69/200\n",
      "13/14 [==========================>...] - ETA: 0s - loss: 0.0015 - acc: 0.8498\n",
      "Epoch 00069: saving model to ./weights/weights-loss-0.0012-acc-0.8788-epoch-69.h5\n",
      "14/14 [==============================] - 1s 62ms/step - loss: 0.0015 - acc: 0.8488 - val_loss: 0.0012 - val_acc: 0.8788\n",
      "Epoch 70/200\n",
      "13/14 [==========================>...] - ETA: 0s - loss: 0.0016 - acc: 0.8478\n",
      "Epoch 00070: saving model to ./weights/weights-loss-0.0012-acc-0.8838-epoch-70.h5\n",
      "14/14 [==============================] - 1s 63ms/step - loss: 0.0016 - acc: 0.8461 - val_loss: 0.0012 - val_acc: 0.8838\n",
      "Epoch 71/200\n",
      "13/14 [==========================>...] - ETA: 0s - loss: 0.0016 - acc: 0.8416\n",
      "Epoch 00071: saving model to ./weights/weights-loss-0.0012-acc-0.8875-epoch-71.h5\n",
      "14/14 [==============================] - 1s 70ms/step - loss: 0.0016 - acc: 0.8431 - val_loss: 0.0012 - val_acc: 0.8875\n",
      "Epoch 72/200\n",
      "13/14 [==========================>...] - ETA: 0s - loss: 0.0016 - acc: 0.8532\n",
      "Epoch 00072: saving model to ./weights/weights-loss-0.0014-acc-0.8537-epoch-72.h5\n",
      "14/14 [==============================] - 1s 66ms/step - loss: 0.0016 - acc: 0.8499 - val_loss: 0.0014 - val_acc: 0.8537\n",
      "Epoch 73/200\n",
      "13/14 [==========================>...] - ETA: 0s - loss: 0.0016 - acc: 0.8418\n",
      "Epoch 00073: saving model to ./weights/weights-loss-0.0013-acc-0.8700-epoch-73.h5\n",
      "14/14 [==============================] - 1s 62ms/step - loss: 0.0016 - acc: 0.8409 - val_loss: 0.0013 - val_acc: 0.8700\n",
      "Epoch 74/200\n",
      "13/14 [==========================>...] - ETA: 0s - loss: 0.0016 - acc: 0.8444\n",
      "Epoch 00074: saving model to ./weights/weights-loss-0.0012-acc-0.8750-epoch-74.h5\n",
      "14/14 [==============================] - 1s 62ms/step - loss: 0.0016 - acc: 0.8463 - val_loss: 0.0012 - val_acc: 0.8750\n",
      "Epoch 75/200\n",
      "13/14 [==========================>...] - ETA: 0s - loss: 0.0016 - acc: 0.8486\n",
      "Epoch 00075: saving model to ./weights/weights-loss-0.0012-acc-0.8838-epoch-75.h5\n",
      "14/14 [==============================] - 1s 56ms/step - loss: 0.0016 - acc: 0.8484 - val_loss: 0.0012 - val_acc: 0.8838\n",
      "Epoch 76/200\n",
      "13/14 [==========================>...] - ETA: 0s - loss: 0.0015 - acc: 0.8430\n",
      "Epoch 00076: saving model to ./weights/weights-loss-0.0011-acc-0.8887-epoch-76.h5\n",
      "14/14 [==============================] - 1s 59ms/step - loss: 0.0015 - acc: 0.8433 - val_loss: 0.0011 - val_acc: 0.8887\n",
      "Epoch 77/200\n",
      "13/14 [==========================>...] - ETA: 0s - loss: 0.0016 - acc: 0.8462\n",
      "Epoch 00077: saving model to ./weights/weights-loss-0.0011-acc-0.8937-epoch-77.h5\n",
      "14/14 [==============================] - 1s 59ms/step - loss: 0.0016 - acc: 0.8468 - val_loss: 0.0011 - val_acc: 0.8937\n",
      "Epoch 78/200\n",
      "13/14 [==========================>...] - ETA: 0s - loss: 0.0015 - acc: 0.8525\n",
      "Epoch 00078: saving model to ./weights/weights-loss-0.0011-acc-0.8887-epoch-78.h5\n",
      "14/14 [==============================] - 1s 69ms/step - loss: 0.0015 - acc: 0.8511 - val_loss: 0.0011 - val_acc: 0.8887\n",
      "Epoch 79/200\n",
      "13/14 [==========================>...] - ETA: 0s - loss: 0.0014 - acc: 0.8624\n",
      "Epoch 00079: saving model to ./weights/weights-loss-0.0014-acc-0.8600-epoch-79.h5\n",
      "14/14 [==============================] - 1s 57ms/step - loss: 0.0014 - acc: 0.8616 - val_loss: 0.0014 - val_acc: 0.8600\n",
      "Epoch 80/200\n",
      "13/14 [==========================>...] - ETA: 0s - loss: 0.0015 - acc: 0.8490\n",
      "Epoch 00080: saving model to ./weights/weights-loss-0.0013-acc-0.8725-epoch-80.h5\n",
      "14/14 [==============================] - 1s 64ms/step - loss: 0.0015 - acc: 0.8489 - val_loss: 0.0013 - val_acc: 0.8725\n",
      "Epoch 81/200\n",
      "13/14 [==========================>...] - ETA: 0s - loss: 0.0015 - acc: 0.8562\n",
      "Epoch 00081: saving model to ./weights/weights-loss-0.0012-acc-0.8813-epoch-81.h5\n",
      "14/14 [==============================] - 1s 60ms/step - loss: 0.0015 - acc: 0.8552 - val_loss: 0.0012 - val_acc: 0.8813\n",
      "Epoch 82/200\n",
      "13/14 [==========================>...] - ETA: 0s - loss: 0.0015 - acc: 0.8553\n",
      "Epoch 00082: saving model to ./weights/weights-loss-0.0011-acc-0.8813-epoch-82.h5\n",
      "14/14 [==============================] - 1s 59ms/step - loss: 0.0015 - acc: 0.8535 - val_loss: 0.0011 - val_acc: 0.8813\n",
      "Epoch 83/200\n",
      "13/14 [==========================>...] - ETA: 0s - loss: 0.0016 - acc: 0.8499\n",
      "Epoch 00083: saving model to ./weights/weights-loss-0.0012-acc-0.8850-epoch-83.h5\n",
      "14/14 [==============================] - 1s 60ms/step - loss: 0.0016 - acc: 0.8494 - val_loss: 0.0012 - val_acc: 0.8850\n",
      "Epoch 84/200\n",
      "13/14 [==========================>...] - ETA: 0s - loss: 0.0017 - acc: 0.8400\n",
      "Epoch 00084: saving model to ./weights/weights-loss-0.0013-acc-0.8837-epoch-84.h5\n",
      "14/14 [==============================] - 1s 60ms/step - loss: 0.0017 - acc: 0.8424 - val_loss: 0.0013 - val_acc: 0.8837\n",
      "Epoch 85/200\n"
     ]
    },
    {
     "name": "stdout",
     "output_type": "stream",
     "text": [
      "13/14 [==========================>...] - ETA: 0s - loss: 0.0015 - acc: 0.8529\n",
      "Epoch 00085: saving model to ./weights/weights-loss-0.0013-acc-0.8775-epoch-85.h5\n",
      "14/14 [==============================] - 1s 61ms/step - loss: 0.0015 - acc: 0.8536 - val_loss: 0.0013 - val_acc: 0.8775\n",
      "Epoch 86/200\n",
      "13/14 [==========================>...] - ETA: 0s - loss: 0.0017 - acc: 0.8340\n",
      "Epoch 00086: saving model to ./weights/weights-loss-0.0012-acc-0.8825-epoch-86.h5\n",
      "14/14 [==============================] - 1s 56ms/step - loss: 0.0017 - acc: 0.8349 - val_loss: 0.0012 - val_acc: 0.8825\n",
      "Epoch 87/200\n",
      "12/14 [========================>.....] - ETA: 0s - loss: 0.0016 - acc: 0.8467\n",
      "Epoch 00087: saving model to ./weights/weights-loss-0.0015-acc-0.8600-epoch-87.h5\n",
      "14/14 [==============================] - 1s 59ms/step - loss: 0.0015 - acc: 0.8546 - val_loss: 0.0015 - val_acc: 0.8600\n",
      "Epoch 88/200\n",
      "13/14 [==========================>...] - ETA: 0s - loss: 0.0015 - acc: 0.8462\n",
      "Epoch 00088: saving model to ./weights/weights-loss-0.0012-acc-0.8763-epoch-88.h5\n",
      "14/14 [==============================] - 1s 62ms/step - loss: 0.0016 - acc: 0.8458 - val_loss: 0.0012 - val_acc: 0.8763\n",
      "Epoch 89/200\n",
      "13/14 [==========================>...] - ETA: 0s - loss: 0.0015 - acc: 0.8511\n",
      "Epoch 00089: saving model to ./weights/weights-loss-0.0012-acc-0.8800-epoch-89.h5\n",
      "14/14 [==============================] - 1s 65ms/step - loss: 0.0015 - acc: 0.8481 - val_loss: 0.0012 - val_acc: 0.8800\n",
      "Epoch 90/200\n",
      "13/14 [==========================>...] - ETA: 0s - loss: 0.0014 - acc: 0.8640\n",
      "Epoch 00090: saving model to ./weights/weights-loss-0.0013-acc-0.8775-epoch-90.h5\n",
      "14/14 [==============================] - 1s 57ms/step - loss: 0.0014 - acc: 0.8645 - val_loss: 0.0013 - val_acc: 0.8775\n",
      "Epoch 91/200\n",
      "13/14 [==========================>...] - ETA: 0s - loss: 0.0014 - acc: 0.8568\n",
      "Epoch 00091: saving model to ./weights/weights-loss-0.0012-acc-0.8825-epoch-91.h5\n",
      "14/14 [==============================] - 1s 62ms/step - loss: 0.0015 - acc: 0.8548 - val_loss: 0.0012 - val_acc: 0.8825\n",
      "Epoch 92/200\n",
      "13/14 [==========================>...] - ETA: 0s - loss: 0.0015 - acc: 0.8546\n",
      "Epoch 00092: saving model to ./weights/weights-loss-0.0012-acc-0.8850-epoch-92.h5\n",
      "14/14 [==============================] - 1s 60ms/step - loss: 0.0015 - acc: 0.8554 - val_loss: 0.0012 - val_acc: 0.8850\n",
      "Epoch 93/200\n",
      "13/14 [==========================>...] - ETA: 0s - loss: 0.0014 - acc: 0.8690\n",
      "Epoch 00093: saving model to ./weights/weights-loss-0.0013-acc-0.8700-epoch-93.h5\n",
      "14/14 [==============================] - 1s 61ms/step - loss: 0.0014 - acc: 0.8673 - val_loss: 0.0013 - val_acc: 0.8700\n",
      "Epoch 94/200\n",
      "13/14 [==========================>...] - ETA: 0s - loss: 0.0015 - acc: 0.8592\n",
      "Epoch 00094: saving model to ./weights/weights-loss-0.0013-acc-0.8687-epoch-94.h5\n",
      "14/14 [==============================] - 1s 64ms/step - loss: 0.0014 - acc: 0.8613 - val_loss: 0.0013 - val_acc: 0.8687\n",
      "Epoch 95/200\n",
      "13/14 [==========================>...] - ETA: 0s - loss: 0.0013 - acc: 0.8709\n",
      "Epoch 00095: saving model to ./weights/weights-loss-0.0013-acc-0.8663-epoch-95.h5\n",
      "14/14 [==============================] - 1s 65ms/step - loss: 0.0013 - acc: 0.8696 - val_loss: 0.0013 - val_acc: 0.8663\n",
      "Epoch 96/200\n",
      "13/14 [==========================>...] - ETA: 0s - loss: 0.0015 - acc: 0.8451\n",
      "Epoch 00096: saving model to ./weights/weights-loss-0.0013-acc-0.8737-epoch-96.h5\n",
      "14/14 [==============================] - 1s 60ms/step - loss: 0.0015 - acc: 0.8452 - val_loss: 0.0013 - val_acc: 0.8737\n",
      "Epoch 97/200\n",
      "13/14 [==========================>...] - ETA: 0s - loss: 0.0015 - acc: 0.8486\n",
      "Epoch 00097: saving model to ./weights/weights-loss-0.0012-acc-0.8850-epoch-97.h5\n",
      "14/14 [==============================] - 1s 63ms/step - loss: 0.0015 - acc: 0.8497 - val_loss: 0.0012 - val_acc: 0.8850\n",
      "Epoch 98/200\n",
      "13/14 [==========================>...] - ETA: 0s - loss: 0.0014 - acc: 0.8645\n",
      "Epoch 00098: saving model to ./weights/weights-loss-0.0012-acc-0.8825-epoch-98.h5\n",
      "14/14 [==============================] - 1s 69ms/step - loss: 0.0014 - acc: 0.8629 - val_loss: 0.0012 - val_acc: 0.8825\n",
      "Epoch 99/200\n",
      "13/14 [==========================>...] - ETA: 0s - loss: 0.0014 - acc: 0.8618\n",
      "Epoch 00099: saving model to ./weights/weights-loss-0.0014-acc-0.8550-epoch-99.h5\n",
      "14/14 [==============================] - 1s 58ms/step - loss: 0.0015 - acc: 0.8565 - val_loss: 0.0014 - val_acc: 0.8550\n",
      "Epoch 100/200\n",
      "13/14 [==========================>...] - ETA: 0s - loss: 0.0014 - acc: 0.8639\n",
      "Epoch 00100: saving model to ./weights/weights-loss-0.0012-acc-0.8862-epoch-100.h5\n",
      "14/14 [==============================] - 1s 62ms/step - loss: 0.0014 - acc: 0.8641 - val_loss: 0.0012 - val_acc: 0.8862\n",
      "Epoch 101/200\n",
      "13/14 [==========================>...] - ETA: 0s - loss: 0.0014 - acc: 0.8679\n",
      "Epoch 00101: saving model to ./weights/weights-loss-0.0012-acc-0.8875-epoch-101.h5\n",
      "14/14 [==============================] - 1s 59ms/step - loss: 0.0014 - acc: 0.8680 - val_loss: 0.0012 - val_acc: 0.8875\n",
      "Epoch 102/200\n",
      "13/14 [==========================>...] - ETA: 0s - loss: 0.0015 - acc: 0.8516\n",
      "Epoch 00102: saving model to ./weights/weights-loss-0.0015-acc-0.8475-epoch-102.h5\n",
      "14/14 [==============================] - 1s 62ms/step - loss: 0.0015 - acc: 0.8535 - val_loss: 0.0015 - val_acc: 0.8475\n",
      "Epoch 103/200\n",
      "13/14 [==========================>...] - ETA: 0s - loss: 0.0015 - acc: 0.8529\n",
      "Epoch 00103: saving model to ./weights/weights-loss-0.0011-acc-0.8837-epoch-103.h5\n",
      "14/14 [==============================] - 1s 63ms/step - loss: 0.0015 - acc: 0.8524 - val_loss: 0.0011 - val_acc: 0.8837\n",
      "Epoch 104/200\n",
      "13/14 [==========================>...] - ETA: 0s - loss: 0.0014 - acc: 0.8603\n",
      "Epoch 00104: saving model to ./weights/weights-loss-0.0011-acc-0.8900-epoch-104.h5\n",
      "14/14 [==============================] - 1s 66ms/step - loss: 0.0014 - acc: 0.8604 - val_loss: 0.0011 - val_acc: 0.8900\n",
      "Epoch 105/200\n",
      "13/14 [==========================>...] - ETA: 0s - loss: 0.0014 - acc: 0.8622\n",
      "Epoch 00105: saving model to ./weights/weights-loss-0.0012-acc-0.8800-epoch-105.h5\n",
      "14/14 [==============================] - 1s 56ms/step - loss: 0.0014 - acc: 0.8611 - val_loss: 0.0012 - val_acc: 0.8800\n",
      "Epoch 106/200\n",
      "13/14 [==========================>...] - ETA: 0s - loss: 0.0014 - acc: 0.8622\n",
      "Epoch 00106: saving model to ./weights/weights-loss-0.0012-acc-0.8763-epoch-106.h5\n",
      "14/14 [==============================] - 1s 65ms/step - loss: 0.0014 - acc: 0.8615 - val_loss: 0.0012 - val_acc: 0.8763\n",
      "Epoch 107/200\n",
      "13/14 [==========================>...] - ETA: 0s - loss: 0.0014 - acc: 0.8733\n",
      "Epoch 00107: saving model to ./weights/weights-loss-0.0011-acc-0.8875-epoch-107.h5\n",
      "14/14 [==============================] - 1s 65ms/step - loss: 0.0014 - acc: 0.8721 - val_loss: 0.0011 - val_acc: 0.8875\n",
      "Epoch 108/200\n",
      "13/14 [==========================>...] - ETA: 0s - loss: 0.0014 - acc: 0.8655\n",
      "Epoch 00108: saving model to ./weights/weights-loss-0.0012-acc-0.8825-epoch-108.h5\n",
      "14/14 [==============================] - 1s 63ms/step - loss: 0.0014 - acc: 0.8667 - val_loss: 0.0012 - val_acc: 0.8825\n",
      "Epoch 109/200\n",
      "12/14 [========================>.....] - ETA: 0s - loss: 0.0014 - acc: 0.8631\n",
      "Epoch 00109: saving model to ./weights/weights-loss-0.0015-acc-0.8550-epoch-109.h5\n",
      "14/14 [==============================] - 1s 62ms/step - loss: 0.0014 - acc: 0.8671 - val_loss: 0.0015 - val_acc: 0.8550\n",
      "Epoch 110/200\n",
      "13/14 [==========================>...] - ETA: 0s - loss: 0.0014 - acc: 0.8645\n",
      "Epoch 00110: saving model to ./weights/weights-loss-0.0014-acc-0.8612-epoch-110.h5\n",
      "14/14 [==============================] - 1s 62ms/step - loss: 0.0014 - acc: 0.8652 - val_loss: 0.0014 - val_acc: 0.8612\n",
      "Epoch 111/200\n",
      "13/14 [==========================>...] - ETA: 0s - loss: 0.0015 - acc: 0.8592\n",
      "Epoch 00111: saving model to ./weights/weights-loss-0.0012-acc-0.8675-epoch-111.h5\n",
      "14/14 [==============================] - 1s 58ms/step - loss: 0.0015 - acc: 0.8590 - val_loss: 0.0012 - val_acc: 0.8675\n",
      "Epoch 112/200\n",
      "13/14 [==========================>...] - ETA: 0s - loss: 0.0015 - acc: 0.8591\n",
      "Epoch 00112: saving model to ./weights/weights-loss-0.0011-acc-0.8863-epoch-112.h5\n",
      "14/14 [==============================] - 1s 70ms/step - loss: 0.0015 - acc: 0.8604 - val_loss: 0.0011 - val_acc: 0.8863\n"
     ]
    },
    {
     "name": "stdout",
     "output_type": "stream",
     "text": [
      "Epoch 113/200\n",
      "13/14 [==========================>...] - ETA: 0s - loss: 0.0014 - acc: 0.8597\n",
      "Epoch 00113: saving model to ./weights/weights-loss-0.0013-acc-0.8725-epoch-113.h5\n",
      "14/14 [==============================] - 1s 60ms/step - loss: 0.0015 - acc: 0.8592 - val_loss: 0.0013 - val_acc: 0.8725\n",
      "Epoch 114/200\n",
      "13/14 [==========================>...] - ETA: 0s - loss: 0.0014 - acc: 0.8567\n",
      "Epoch 00114: saving model to ./weights/weights-loss-0.0011-acc-0.8912-epoch-114.h5\n",
      "14/14 [==============================] - 1s 60ms/step - loss: 0.0014 - acc: 0.8545 - val_loss: 0.0011 - val_acc: 0.8912\n",
      "Epoch 115/200\n",
      "13/14 [==========================>...] - ETA: 0s - loss: 0.0015 - acc: 0.8538\n",
      "Epoch 00115: saving model to ./weights/weights-loss-0.0014-acc-0.8512-epoch-115.h5\n",
      "14/14 [==============================] - 1s 60ms/step - loss: 0.0015 - acc: 0.8543 - val_loss: 0.0014 - val_acc: 0.8512\n",
      "Epoch 116/200\n",
      "13/14 [==========================>...] - ETA: 0s - loss: 0.0014 - acc: 0.8651\n",
      "Epoch 00116: saving model to ./weights/weights-loss-0.0012-acc-0.8762-epoch-116.h5\n",
      "14/14 [==============================] - 1s 69ms/step - loss: 0.0014 - acc: 0.8649 - val_loss: 0.0012 - val_acc: 0.8762\n",
      "Epoch 117/200\n",
      "12/14 [========================>.....] - ETA: 0s - loss: 0.0016 - acc: 0.8501\n",
      "Epoch 00117: saving model to ./weights/weights-loss-0.0013-acc-0.8688-epoch-117.h5\n",
      "14/14 [==============================] - 1s 60ms/step - loss: 0.0015 - acc: 0.8570 - val_loss: 0.0013 - val_acc: 0.8688\n",
      "Epoch 118/200\n",
      "13/14 [==========================>...] - ETA: 0s - loss: 0.0015 - acc: 0.8558\n",
      "Epoch 00118: saving model to ./weights/weights-loss-0.0012-acc-0.8713-epoch-118.h5\n",
      "14/14 [==============================] - 1s 62ms/step - loss: 0.0015 - acc: 0.8563 - val_loss: 0.0012 - val_acc: 0.8713\n",
      "Epoch 119/200\n",
      "13/14 [==========================>...] - ETA: 0s - loss: 0.0014 - acc: 0.8639\n",
      "Epoch 00119: saving model to ./weights/weights-loss-0.0012-acc-0.8725-epoch-119.h5\n",
      "14/14 [==============================] - 1s 59ms/step - loss: 0.0014 - acc: 0.8628 - val_loss: 0.0012 - val_acc: 0.8725\n",
      "Epoch 120/200\n",
      "12/14 [========================>.....] - ETA: 0s - loss: 0.0014 - acc: 0.8708\n",
      "Epoch 00120: saving model to ./weights/weights-loss-0.0013-acc-0.8663-epoch-120.h5\n",
      "14/14 [==============================] - 1s 57ms/step - loss: 0.0014 - acc: 0.8669 - val_loss: 0.0013 - val_acc: 0.8663\n",
      "Epoch 121/200\n",
      "13/14 [==========================>...] - ETA: 0s - loss: 0.0014 - acc: 0.8702\n",
      "Epoch 00121: saving model to ./weights/weights-loss-0.0012-acc-0.8725-epoch-121.h5\n",
      "14/14 [==============================] - 1s 63ms/step - loss: 0.0014 - acc: 0.8709 - val_loss: 0.0012 - val_acc: 0.8725\n",
      "Epoch 122/200\n",
      "12/14 [========================>.....] - ETA: 0s - loss: 0.0014 - acc: 0.8656\n",
      "Epoch 00122: saving model to ./weights/weights-loss-0.0013-acc-0.8725-epoch-122.h5\n",
      "14/14 [==============================] - 1s 61ms/step - loss: 0.0014 - acc: 0.8665 - val_loss: 0.0013 - val_acc: 0.8725\n",
      "Epoch 123/200\n",
      "13/14 [==========================>...] - ETA: 0s - loss: 0.0014 - acc: 0.8651\n",
      "Epoch 00123: saving model to ./weights/weights-loss-0.0012-acc-0.8838-epoch-123.h5\n",
      "14/14 [==============================] - 1s 61ms/step - loss: 0.0013 - acc: 0.8678 - val_loss: 0.0012 - val_acc: 0.8838\n",
      "Epoch 124/200\n",
      "13/14 [==========================>...] - ETA: 0s - loss: 0.0014 - acc: 0.8688\n",
      "Epoch 00124: saving model to ./weights/weights-loss-0.0014-acc-0.8638-epoch-124.h5\n",
      "14/14 [==============================] - 1s 65ms/step - loss: 0.0014 - acc: 0.8677 - val_loss: 0.0014 - val_acc: 0.8638\n",
      "Epoch 125/200\n",
      "12/14 [========================>.....] - ETA: 0s - loss: 0.0014 - acc: 0.8651\n",
      "Epoch 00125: saving model to ./weights/weights-loss-0.0011-acc-0.8938-epoch-125.h5\n",
      "14/14 [==============================] - 1s 63ms/step - loss: 0.0014 - acc: 0.8705 - val_loss: 0.0011 - val_acc: 0.8938\n",
      "Epoch 126/200\n",
      "13/14 [==========================>...] - ETA: 0s - loss: 0.0014 - acc: 0.8657\n",
      "Epoch 00126: saving model to ./weights/weights-loss-0.0013-acc-0.8688-epoch-126.h5\n",
      "14/14 [==============================] - 1s 64ms/step - loss: 0.0014 - acc: 0.8655 - val_loss: 0.0013 - val_acc: 0.8688\n",
      "Epoch 127/200\n",
      "13/14 [==========================>...] - ETA: 0s - loss: 0.0013 - acc: 0.8730\n",
      "Epoch 00127: saving model to ./weights/weights-loss-0.0011-acc-0.8825-epoch-127.h5\n",
      "14/14 [==============================] - 1s 55ms/step - loss: 0.0013 - acc: 0.8722 - val_loss: 0.0011 - val_acc: 0.8825\n",
      "Epoch 128/200\n",
      "13/14 [==========================>...] - ETA: 0s - loss: 0.0014 - acc: 0.8562\n",
      "Epoch 00128: saving model to ./weights/weights-loss-0.0011-acc-0.8800-epoch-128.h5\n",
      "14/14 [==============================] - 1s 64ms/step - loss: 0.0014 - acc: 0.8561 - val_loss: 0.0011 - val_acc: 0.8800\n",
      "Epoch 129/200\n",
      "13/14 [==========================>...] - ETA: 0s - loss: 0.0014 - acc: 0.8628\n",
      "Epoch 00129: saving model to ./weights/weights-loss-0.0014-acc-0.8650-epoch-129.h5\n",
      "14/14 [==============================] - 1s 67ms/step - loss: 0.0014 - acc: 0.8627 - val_loss: 0.0014 - val_acc: 0.8650\n",
      "Epoch 130/200\n",
      "13/14 [==========================>...] - ETA: 0s - loss: 0.0013 - acc: 0.8660\n",
      "Epoch 00130: saving model to ./weights/weights-loss-0.0012-acc-0.8787-epoch-130.h5\n",
      "14/14 [==============================] - 1s 62ms/step - loss: 0.0013 - acc: 0.8680 - val_loss: 0.0012 - val_acc: 0.8787\n",
      "Epoch 131/200\n",
      "13/14 [==========================>...] - ETA: 0s - loss: 0.0013 - acc: 0.8770\n",
      "Epoch 00131: saving model to ./weights/weights-loss-0.0012-acc-0.8812-epoch-131.h5\n",
      "14/14 [==============================] - 1s 59ms/step - loss: 0.0013 - acc: 0.8760 - val_loss: 0.0012 - val_acc: 0.8812\n",
      "Epoch 132/200\n",
      "13/14 [==========================>...] - ETA: 0s - loss: 0.0012 - acc: 0.8797\n",
      "Epoch 00132: saving model to ./weights/weights-loss-0.0011-acc-0.8938-epoch-132.h5\n",
      "14/14 [==============================] - 1s 62ms/step - loss: 0.0012 - acc: 0.8793 - val_loss: 0.0011 - val_acc: 0.8938\n",
      "Epoch 133/200\n",
      "13/14 [==========================>...] - ETA: 0s - loss: 0.0013 - acc: 0.8747\n",
      "Epoch 00133: saving model to ./weights/weights-loss-0.0012-acc-0.8838-epoch-133.h5\n",
      "14/14 [==============================] - 1s 63ms/step - loss: 0.0013 - acc: 0.8751 - val_loss: 0.0012 - val_acc: 0.8838\n",
      "Epoch 134/200\n",
      "13/14 [==========================>...] - ETA: 0s - loss: 0.0013 - acc: 0.8649\n",
      "Epoch 00134: saving model to ./weights/weights-loss-0.0011-acc-0.8925-epoch-134.h5\n",
      "14/14 [==============================] - 1s 63ms/step - loss: 0.0013 - acc: 0.8658 - val_loss: 0.0011 - val_acc: 0.8925\n",
      "Epoch 135/200\n",
      "13/14 [==========================>...] - ETA: 0s - loss: 0.0013 - acc: 0.8732\n",
      "Epoch 00135: saving model to ./weights/weights-loss-0.0011-acc-0.8988-epoch-135.h5\n",
      "14/14 [==============================] - 1s 56ms/step - loss: 0.0013 - acc: 0.8739 - val_loss: 0.0011 - val_acc: 0.8988\n",
      "Epoch 136/200\n",
      "13/14 [==========================>...] - ETA: 0s - loss: 0.0013 - acc: 0.8669\n",
      "Epoch 00136: saving model to ./weights/weights-loss-0.0011-acc-0.8925-epoch-136.h5\n",
      "14/14 [==============================] - 1s 61ms/step - loss: 0.0013 - acc: 0.8687 - val_loss: 0.0011 - val_acc: 0.8925\n",
      "Epoch 137/200\n",
      "13/14 [==========================>...] - ETA: 0s - loss: 0.0014 - acc: 0.8678\n",
      "Epoch 00137: saving model to ./weights/weights-loss-0.0011-acc-0.8913-epoch-137.h5\n",
      "14/14 [==============================] - 1s 61ms/step - loss: 0.0013 - acc: 0.8708 - val_loss: 0.0011 - val_acc: 0.8913\n",
      "Epoch 138/200\n",
      "13/14 [==========================>...] - ETA: 0s - loss: 0.0013 - acc: 0.8729\n",
      "Epoch 00138: saving model to ./weights/weights-loss-0.0013-acc-0.8675-epoch-138.h5\n",
      "14/14 [==============================] - 1s 64ms/step - loss: 0.0013 - acc: 0.8718 - val_loss: 0.0013 - val_acc: 0.8675\n",
      "Epoch 139/200\n",
      "13/14 [==========================>...] - ETA: 0s - loss: 0.0014 - acc: 0.8600\n",
      "Epoch 00139: saving model to ./weights/weights-loss-0.0011-acc-0.8850-epoch-139.h5\n",
      "14/14 [==============================] - 1s 56ms/step - loss: 0.0014 - acc: 0.8600 - val_loss: 0.0011 - val_acc: 0.8850\n",
      "Epoch 140/200\n",
      "13/14 [==========================>...] - ETA: 0s - loss: 0.0014 - acc: 0.8673\n",
      "Epoch 00140: saving model to ./weights/weights-loss-0.0011-acc-0.8900-epoch-140.h5\n",
      "14/14 [==============================] - 1s 63ms/step - loss: 0.0014 - acc: 0.8679 - val_loss: 0.0011 - val_acc: 0.8900\n"
     ]
    },
    {
     "name": "stdout",
     "output_type": "stream",
     "text": [
      "Epoch 141/200\n",
      "13/14 [==========================>...] - ETA: 0s - loss: 0.0014 - acc: 0.8697\n",
      "Epoch 00141: saving model to ./weights/weights-loss-0.0012-acc-0.8713-epoch-141.h5\n",
      "14/14 [==============================] - 1s 57ms/step - loss: 0.0014 - acc: 0.8686 - val_loss: 0.0012 - val_acc: 0.8713\n",
      "Epoch 142/200\n",
      "13/14 [==========================>...] - ETA: 0s - loss: 0.0013 - acc: 0.8666\n",
      "Epoch 00142: saving model to ./weights/weights-loss-0.0011-acc-0.8938-epoch-142.h5\n",
      "14/14 [==============================] - 1s 63ms/step - loss: 0.0013 - acc: 0.8684 - val_loss: 0.0011 - val_acc: 0.8938\n",
      "Epoch 143/200\n",
      "13/14 [==========================>...] - ETA: 0s - loss: 0.0013 - acc: 0.8762\n",
      "Epoch 00143: saving model to ./weights/weights-loss-0.0011-acc-0.8888-epoch-143.h5\n",
      "14/14 [==============================] - 1s 64ms/step - loss: 0.0013 - acc: 0.8774 - val_loss: 0.0011 - val_acc: 0.8888\n",
      "Epoch 144/200\n",
      "13/14 [==========================>...] - ETA: 0s - loss: 0.0014 - acc: 0.8652\n",
      "Epoch 00144: saving model to ./weights/weights-loss-0.0012-acc-0.8850-epoch-144.h5\n",
      "14/14 [==============================] - 1s 60ms/step - loss: 0.0014 - acc: 0.8666 - val_loss: 0.0012 - val_acc: 0.8850\n",
      "Epoch 145/200\n",
      "13/14 [==========================>...] - ETA: 0s - loss: 0.0014 - acc: 0.8681\n",
      "Epoch 00145: saving model to ./weights/weights-loss-0.0012-acc-0.8825-epoch-145.h5\n",
      "14/14 [==============================] - 1s 55ms/step - loss: 0.0014 - acc: 0.8684 - val_loss: 0.0012 - val_acc: 0.8825\n",
      "Epoch 146/200\n",
      "13/14 [==========================>...] - ETA: 0s - loss: 0.0013 - acc: 0.8708\n",
      "Epoch 00146: saving model to ./weights/weights-loss-0.0013-acc-0.8675-epoch-146.h5\n",
      "14/14 [==============================] - 1s 67ms/step - loss: 0.0013 - acc: 0.8700 - val_loss: 0.0013 - val_acc: 0.8675\n",
      "Epoch 147/200\n",
      "13/14 [==========================>...] - ETA: 0s - loss: 0.0013 - acc: 0.8741\n",
      "Epoch 00147: saving model to ./weights/weights-loss-0.0012-acc-0.8763-epoch-147.h5\n",
      "14/14 [==============================] - 1s 65ms/step - loss: 0.0013 - acc: 0.8727 - val_loss: 0.0012 - val_acc: 0.8763\n",
      "Epoch 148/200\n",
      "11/14 [======================>.......] - ETA: 0s - loss: 0.0013 - acc: 0.8709\n",
      "Epoch 00148: saving model to ./weights/weights-loss-0.0014-acc-0.8475-epoch-148.h5\n",
      "14/14 [==============================] - 1s 58ms/step - loss: 0.0014 - acc: 0.8648 - val_loss: 0.0014 - val_acc: 0.8475\n",
      "Epoch 149/200\n",
      "13/14 [==========================>...] - ETA: 0s - loss: 0.0014 - acc: 0.8688\n",
      "Epoch 00149: saving model to ./weights/weights-loss-0.0013-acc-0.8712-epoch-149.h5\n",
      "14/14 [==============================] - 1s 63ms/step - loss: 0.0014 - acc: 0.8679 - val_loss: 0.0013 - val_acc: 0.8712\n",
      "Epoch 150/200\n",
      "13/14 [==========================>...] - ETA: 0s - loss: 0.0013 - acc: 0.8684\n",
      "Epoch 00150: saving model to ./weights/weights-loss-0.0012-acc-0.8850-epoch-150.h5\n",
      "14/14 [==============================] - 1s 57ms/step - loss: 0.0013 - acc: 0.8674 - val_loss: 0.0012 - val_acc: 0.8850\n",
      "Epoch 151/200\n",
      "13/14 [==========================>...] - ETA: 0s - loss: 0.0012 - acc: 0.8782\n",
      "Epoch 00151: saving model to ./weights/weights-loss-0.0012-acc-0.8825-epoch-151.h5\n",
      "14/14 [==============================] - 1s 66ms/step - loss: 0.0012 - acc: 0.8782 - val_loss: 0.0012 - val_acc: 0.8825\n",
      "Epoch 152/200\n",
      "13/14 [==========================>...] - ETA: 0s - loss: 0.0013 - acc: 0.8795\n",
      "Epoch 00152: saving model to ./weights/weights-loss-0.0012-acc-0.8862-epoch-152.h5\n",
      "14/14 [==============================] - 1s 65ms/step - loss: 0.0013 - acc: 0.8796 - val_loss: 0.0012 - val_acc: 0.8862\n",
      "Epoch 153/200\n",
      "13/14 [==========================>...] - ETA: 0s - loss: 0.0013 - acc: 0.8773\n",
      "Epoch 00153: saving model to ./weights/weights-loss-0.0012-acc-0.8788-epoch-153.h5\n",
      "14/14 [==============================] - 1s 63ms/step - loss: 0.0013 - acc: 0.8764 - val_loss: 0.0012 - val_acc: 0.8788\n",
      "Epoch 154/200\n",
      "13/14 [==========================>...] - ETA: 0s - loss: 0.0012 - acc: 0.8777\n",
      "Epoch 00154: saving model to ./weights/weights-loss-0.0011-acc-0.8987-epoch-154.h5\n",
      "14/14 [==============================] - 1s 60ms/step - loss: 0.0012 - acc: 0.8772 - val_loss: 0.0011 - val_acc: 0.8987\n",
      "Epoch 155/200\n",
      "12/14 [========================>.....] - ETA: 0s - loss: 0.0013 - acc: 0.8674\n",
      "Epoch 00155: saving model to ./weights/weights-loss-0.0011-acc-0.8913-epoch-155.h5\n",
      "14/14 [==============================] - 1s 60ms/step - loss: 0.0013 - acc: 0.8694 - val_loss: 0.0011 - val_acc: 0.8913\n",
      "Epoch 156/200\n",
      "12/14 [========================>.....] - ETA: 0s - loss: 0.0012 - acc: 0.8822\n",
      "Epoch 00156: saving model to ./weights/weights-loss-0.0013-acc-0.8788-epoch-156.h5\n",
      "14/14 [==============================] - 1s 60ms/step - loss: 0.0012 - acc: 0.8855 - val_loss: 0.0013 - val_acc: 0.8788\n",
      "Epoch 157/200\n",
      "13/14 [==========================>...] - ETA: 0s - loss: 0.0013 - acc: 0.8789\n",
      "Epoch 00157: saving model to ./weights/weights-loss-0.0011-acc-0.8912-epoch-157.h5\n",
      "14/14 [==============================] - 1s 64ms/step - loss: 0.0012 - acc: 0.8793 - val_loss: 0.0011 - val_acc: 0.8912\n",
      "Epoch 158/200\n",
      "13/14 [==========================>...] - ETA: 0s - loss: 0.0013 - acc: 0.8747\n",
      "Epoch 00158: saving model to ./weights/weights-loss-0.0011-acc-0.8912-epoch-158.h5\n",
      "14/14 [==============================] - 1s 59ms/step - loss: 0.0012 - acc: 0.8770 - val_loss: 0.0011 - val_acc: 0.8912\n",
      "Epoch 159/200\n",
      "13/14 [==========================>...] - ETA: 0s - loss: 0.0013 - acc: 0.8783\n",
      "Epoch 00159: saving model to ./weights/weights-loss-0.0013-acc-0.8725-epoch-159.h5\n",
      "14/14 [==============================] - 1s 61ms/step - loss: 0.0013 - acc: 0.8792 - val_loss: 0.0013 - val_acc: 0.8725\n",
      "Epoch 160/200\n",
      "13/14 [==========================>...] - ETA: 0s - loss: 0.0014 - acc: 0.8645\n",
      "Epoch 00160: saving model to ./weights/weights-loss-0.0015-acc-0.8500-epoch-160.h5\n",
      "14/14 [==============================] - 1s 56ms/step - loss: 0.0014 - acc: 0.8645 - val_loss: 0.0015 - val_acc: 0.8500\n",
      "Epoch 161/200\n",
      "13/14 [==========================>...] - ETA: 0s - loss: 0.0014 - acc: 0.8675\n",
      "Epoch 00161: saving model to ./weights/weights-loss-0.0012-acc-0.8900-epoch-161.h5\n",
      "14/14 [==============================] - 1s 70ms/step - loss: 0.0013 - acc: 0.8680 - val_loss: 0.0012 - val_acc: 0.8900\n",
      "Epoch 162/200\n",
      "13/14 [==========================>...] - ETA: 0s - loss: 0.0013 - acc: 0.8714\n",
      "Epoch 00162: saving model to ./weights/weights-loss-0.0012-acc-0.8963-epoch-162.h5\n",
      "14/14 [==============================] - 1s 62ms/step - loss: 0.0013 - acc: 0.8736 - val_loss: 0.0012 - val_acc: 0.8963\n",
      "Epoch 163/200\n",
      "13/14 [==========================>...] - ETA: 0s - loss: 0.0012 - acc: 0.8831\n",
      "Epoch 00163: saving model to ./weights/weights-loss-0.0012-acc-0.8850-epoch-163.h5\n",
      "14/14 [==============================] - 1s 62ms/step - loss: 0.0012 - acc: 0.8834 - val_loss: 0.0012 - val_acc: 0.8850\n",
      "Epoch 164/200\n",
      "13/14 [==========================>...] - ETA: 0s - loss: 0.0012 - acc: 0.8783\n",
      "Epoch 00164: saving model to ./weights/weights-loss-0.0012-acc-0.8875-epoch-164.h5\n",
      "14/14 [==============================] - 1s 65ms/step - loss: 0.0012 - acc: 0.8781 - val_loss: 0.0012 - val_acc: 0.8875\n",
      "Epoch 165/200\n",
      "13/14 [==========================>...] - ETA: 0s - loss: 0.0013 - acc: 0.8791\n",
      "Epoch 00165: saving model to ./weights/weights-loss-0.0014-acc-0.8588-epoch-165.h5\n",
      "14/14 [==============================] - 1s 57ms/step - loss: 0.0013 - acc: 0.8759 - val_loss: 0.0014 - val_acc: 0.8588\n",
      "Epoch 166/200\n",
      "12/14 [========================>.....] - ETA: 0s - loss: 0.0013 - acc: 0.8786\n",
      "Epoch 00166: saving model to ./weights/weights-loss-0.0011-acc-0.8900-epoch-166.h5\n",
      "14/14 [==============================] - 1s 61ms/step - loss: 0.0012 - acc: 0.8838 - val_loss: 0.0011 - val_acc: 0.8900\n",
      "Epoch 167/200\n",
      "13/14 [==========================>...] - ETA: 0s - loss: 0.0013 - acc: 0.8758\n",
      "Epoch 00167: saving model to ./weights/weights-loss-0.0012-acc-0.8812-epoch-167.h5\n",
      "14/14 [==============================] - 1s 64ms/step - loss: 0.0013 - acc: 0.8749 - val_loss: 0.0012 - val_acc: 0.8812\n",
      "Epoch 168/200\n",
      "13/14 [==========================>...] - ETA: 0s - loss: 0.0013 - acc: 0.8738\n",
      "Epoch 00168: saving model to ./weights/weights-loss-0.0011-acc-0.8925-epoch-168.h5\n",
      "14/14 [==============================] - 1s 57ms/step - loss: 0.0013 - acc: 0.8738 - val_loss: 0.0011 - val_acc: 0.8925\n"
     ]
    },
    {
     "name": "stdout",
     "output_type": "stream",
     "text": [
      "Epoch 169/200\n",
      "13/14 [==========================>...] - ETA: 0s - loss: 0.0013 - acc: 0.8774\n",
      "Epoch 00169: saving model to ./weights/weights-loss-0.0013-acc-0.8775-epoch-169.h5\n",
      "14/14 [==============================] - 1s 60ms/step - loss: 0.0013 - acc: 0.8771 - val_loss: 0.0013 - val_acc: 0.8775\n",
      "Epoch 170/200\n",
      "13/14 [==========================>...] - ETA: 0s - loss: 0.0013 - acc: 0.8792\n",
      "Epoch 00170: saving model to ./weights/weights-loss-0.0012-acc-0.8837-epoch-170.h5\n",
      "14/14 [==============================] - 1s 67ms/step - loss: 0.0013 - acc: 0.8795 - val_loss: 0.0012 - val_acc: 0.8837\n",
      "Epoch 171/200\n",
      "13/14 [==========================>...] - ETA: 0s - loss: 0.0012 - acc: 0.8803\n",
      "Epoch 00171: saving model to ./weights/weights-loss-0.0010-acc-0.9012-epoch-171.h5\n",
      "14/14 [==============================] - 1s 66ms/step - loss: 0.0012 - acc: 0.8790 - val_loss: 0.0010 - val_acc: 0.9012\n",
      "Epoch 172/200\n",
      "13/14 [==========================>...] - ETA: 0s - loss: 0.0012 - acc: 0.8807\n",
      "Epoch 00172: saving model to ./weights/weights-loss-0.0012-acc-0.8900-epoch-172.h5\n",
      "14/14 [==============================] - 1s 70ms/step - loss: 0.0012 - acc: 0.8831 - val_loss: 0.0012 - val_acc: 0.8900\n",
      "Epoch 173/200\n",
      "13/14 [==========================>...] - ETA: 0s - loss: 0.0013 - acc: 0.8747\n",
      "Epoch 00173: saving model to ./weights/weights-loss-0.0011-acc-0.8937-epoch-173.h5\n",
      "14/14 [==============================] - 1s 60ms/step - loss: 0.0013 - acc: 0.8754 - val_loss: 0.0011 - val_acc: 0.8937\n",
      "Epoch 174/200\n",
      "13/14 [==========================>...] - ETA: 0s - loss: 0.0013 - acc: 0.8729\n",
      "Epoch 00174: saving model to ./weights/weights-loss-0.0011-acc-0.8925-epoch-174.h5\n",
      "14/14 [==============================] - 1s 59ms/step - loss: 0.0013 - acc: 0.8747 - val_loss: 0.0011 - val_acc: 0.8925\n",
      "Epoch 175/200\n",
      "13/14 [==========================>...] - ETA: 0s - loss: 0.0012 - acc: 0.8896\n",
      "Epoch 00175: saving model to ./weights/weights-loss-0.0012-acc-0.8838-epoch-175.h5\n",
      "14/14 [==============================] - 1s 56ms/step - loss: 0.0012 - acc: 0.8877 - val_loss: 0.0012 - val_acc: 0.8838\n",
      "Epoch 176/200\n",
      "13/14 [==========================>...] - ETA: 0s - loss: 0.0012 - acc: 0.8758\n",
      "Epoch 00176: saving model to ./weights/weights-loss-0.0011-acc-0.9000-epoch-176.h5\n",
      "14/14 [==============================] - 1s 63ms/step - loss: 0.0012 - acc: 0.8754 - val_loss: 0.0011 - val_acc: 0.9000\n",
      "Epoch 177/200\n",
      "12/14 [========================>.....] - ETA: 0s - loss: 0.0012 - acc: 0.8817\n",
      "Epoch 00177: saving model to ./weights/weights-loss-0.0013-acc-0.8725-epoch-177.h5\n",
      "14/14 [==============================] - 1s 59ms/step - loss: 0.0012 - acc: 0.8780 - val_loss: 0.0013 - val_acc: 0.8725\n",
      "Epoch 178/200\n",
      "13/14 [==========================>...] - ETA: 0s - loss: 0.0012 - acc: 0.8866\n",
      "Epoch 00178: saving model to ./weights/weights-loss-0.0012-acc-0.8888-epoch-178.h5\n",
      "14/14 [==============================] - 1s 62ms/step - loss: 0.0012 - acc: 0.8859 - val_loss: 0.0012 - val_acc: 0.8888\n",
      "Epoch 179/200\n",
      "13/14 [==========================>...] - ETA: 0s - loss: 0.0012 - acc: 0.8863\n",
      "Epoch 00179: saving model to ./weights/weights-loss-0.0011-acc-0.8975-epoch-179.h5\n",
      "14/14 [==============================] - 1s 64ms/step - loss: 0.0012 - acc: 0.8866 - val_loss: 0.0011 - val_acc: 0.8975\n",
      "Epoch 180/200\n",
      "13/14 [==========================>...] - ETA: 0s - loss: 0.0012 - acc: 0.8782\n",
      "Epoch 00180: saving model to ./weights/weights-loss-0.0012-acc-0.8838-epoch-180.h5\n",
      "14/14 [==============================] - 1s 57ms/step - loss: 0.0012 - acc: 0.8782 - val_loss: 0.0012 - val_acc: 0.8838\n",
      "Epoch 181/200\n",
      "13/14 [==========================>...] - ETA: 0s - loss: 0.0013 - acc: 0.8717\n",
      "Epoch 00181: saving model to ./weights/weights-loss-0.0011-acc-0.8888-epoch-181.h5\n",
      "14/14 [==============================] - 1s 62ms/step - loss: 0.0013 - acc: 0.8739 - val_loss: 0.0011 - val_acc: 0.8888\n",
      "Epoch 182/200\n",
      "13/14 [==========================>...] - ETA: 0s - loss: 0.0012 - acc: 0.8866\n",
      "Epoch 00182: saving model to ./weights/weights-loss-0.0013-acc-0.8712-epoch-182.h5\n",
      "14/14 [==============================] - 1s 62ms/step - loss: 0.0012 - acc: 0.8855 - val_loss: 0.0013 - val_acc: 0.8712\n",
      "Epoch 183/200\n",
      "12/14 [========================>.....] - ETA: 0s - loss: 0.0012 - acc: 0.8825\n",
      "Epoch 00183: saving model to ./weights/weights-loss-0.0013-acc-0.8762-epoch-183.h5\n",
      "14/14 [==============================] - 1s 61ms/step - loss: 0.0012 - acc: 0.8780 - val_loss: 0.0013 - val_acc: 0.8762\n",
      "Epoch 184/200\n",
      "12/14 [========================>.....] - ETA: 0s - loss: 0.0012 - acc: 0.8823\n",
      "Epoch 00184: saving model to ./weights/weights-loss-0.0019-acc-0.8037-epoch-184.h5\n",
      "14/14 [==============================] - 1s 60ms/step - loss: 0.0012 - acc: 0.8780 - val_loss: 0.0019 - val_acc: 0.8037\n",
      "Epoch 185/200\n",
      "13/14 [==========================>...] - ETA: 0s - loss: 0.0013 - acc: 0.8720\n",
      "Epoch 00185: saving model to ./weights/weights-loss-0.0011-acc-0.8950-epoch-185.h5\n",
      "14/14 [==============================] - 1s 64ms/step - loss: 0.0013 - acc: 0.8740 - val_loss: 0.0011 - val_acc: 0.8950\n",
      "Epoch 186/200\n",
      "12/14 [========================>.....] - ETA: 0s - loss: 0.0013 - acc: 0.8747\n",
      "Epoch 00186: saving model to ./weights/weights-loss-0.0014-acc-0.8625-epoch-186.h5\n",
      "14/14 [==============================] - 1s 56ms/step - loss: 0.0013 - acc: 0.8721 - val_loss: 0.0014 - val_acc: 0.8625\n",
      "Epoch 187/200\n",
      "13/14 [==========================>...] - ETA: 0s - loss: 0.0012 - acc: 0.8816\n",
      "Epoch 00187: saving model to ./weights/weights-loss-0.0012-acc-0.8862-epoch-187.h5\n",
      "14/14 [==============================] - 1s 64ms/step - loss: 0.0012 - acc: 0.8810 - val_loss: 0.0012 - val_acc: 0.8862\n",
      "Epoch 188/200\n",
      "13/14 [==========================>...] - ETA: 0s - loss: 0.0012 - acc: 0.8779\n",
      "Epoch 00188: saving model to ./weights/weights-loss-0.0011-acc-0.8913-epoch-188.h5\n",
      "14/14 [==============================] - 1s 60ms/step - loss: 0.0012 - acc: 0.8767 - val_loss: 0.0011 - val_acc: 0.8913\n",
      "Epoch 189/200\n",
      "13/14 [==========================>...] - ETA: 0s - loss: 0.0011 - acc: 0.8876\n",
      "Epoch 00189: saving model to ./weights/weights-loss-0.0012-acc-0.8950-epoch-189.h5\n",
      "14/14 [==============================] - 1s 69ms/step - loss: 0.0011 - acc: 0.8859 - val_loss: 0.0012 - val_acc: 0.8950\n",
      "Epoch 190/200\n",
      "13/14 [==========================>...] - ETA: 0s - loss: 0.0012 - acc: 0.8830\n",
      "Epoch 00190: saving model to ./weights/weights-loss-0.0012-acc-0.8850-epoch-190.h5\n",
      "14/14 [==============================] - 1s 56ms/step - loss: 0.0012 - acc: 0.8818 - val_loss: 0.0012 - val_acc: 0.8850\n",
      "Epoch 191/200\n",
      "13/14 [==========================>...] - ETA: 0s - loss: 0.0012 - acc: 0.8803\n",
      "Epoch 00191: saving model to ./weights/weights-loss-0.0011-acc-0.8962-epoch-191.h5\n",
      "14/14 [==============================] - 1s 67ms/step - loss: 0.0012 - acc: 0.8841 - val_loss: 0.0011 - val_acc: 0.8962\n",
      "Epoch 192/200\n",
      "13/14 [==========================>...] - ETA: 0s - loss: 0.0012 - acc: 0.8839\n",
      "Epoch 00192: saving model to ./weights/weights-loss-0.0011-acc-0.8925-epoch-192.h5\n",
      "14/14 [==============================] - 1s 64ms/step - loss: 0.0012 - acc: 0.8846 - val_loss: 0.0011 - val_acc: 0.8925\n",
      "Epoch 193/200\n",
      "13/14 [==========================>...] - ETA: 0s - loss: 0.0012 - acc: 0.8744\n",
      "Epoch 00193: saving model to ./weights/weights-loss-0.0011-acc-0.8900-epoch-193.h5\n",
      "14/14 [==============================] - 1s 62ms/step - loss: 0.0012 - acc: 0.8768 - val_loss: 0.0011 - val_acc: 0.8900\n",
      "Epoch 194/200\n",
      "13/14 [==========================>...] - ETA: 0s - loss: 0.0012 - acc: 0.8918\n",
      "Epoch 00194: saving model to ./weights/weights-loss-0.0013-acc-0.8625-epoch-194.h5\n",
      "14/14 [==============================] - 1s 62ms/step - loss: 0.0012 - acc: 0.8904 - val_loss: 0.0013 - val_acc: 0.8625\n",
      "Epoch 195/200\n",
      "13/14 [==========================>...] - ETA: 0s - loss: 0.0012 - acc: 0.8815\n",
      "Epoch 00195: saving model to ./weights/weights-loss-0.0011-acc-0.8888-epoch-195.h5\n",
      "14/14 [==============================] - 1s 57ms/step - loss: 0.0012 - acc: 0.8807 - val_loss: 0.0011 - val_acc: 0.8888\n",
      "Epoch 196/200\n",
      "13/14 [==========================>...] - ETA: 0s - loss: 0.0011 - acc: 0.8858\n",
      "Epoch 00196: saving model to ./weights/weights-loss-0.0011-acc-0.8925-epoch-196.h5\n",
      "14/14 [==============================] - 1s 62ms/step - loss: 0.0011 - acc: 0.8856 - val_loss: 0.0011 - val_acc: 0.8925\n"
     ]
    },
    {
     "name": "stdout",
     "output_type": "stream",
     "text": [
      "Epoch 197/200\n",
      "13/14 [==========================>...] - ETA: 0s - loss: 0.0012 - acc: 0.8849\n",
      "Epoch 00197: saving model to ./weights/weights-loss-0.0012-acc-0.8838-epoch-197.h5\n",
      "14/14 [==============================] - 1s 61ms/step - loss: 0.0012 - acc: 0.8905 - val_loss: 0.0012 - val_acc: 0.8838\n",
      "Epoch 198/200\n",
      "13/14 [==========================>...] - ETA: 0s - loss: 0.0013 - acc: 0.8794\n",
      "Epoch 00198: saving model to ./weights/weights-loss-0.0011-acc-0.8912-epoch-198.h5\n",
      "14/14 [==============================] - 1s 58ms/step - loss: 0.0012 - acc: 0.8810 - val_loss: 0.0011 - val_acc: 0.8912\n",
      "Epoch 199/200\n",
      "13/14 [==========================>...] - ETA: 0s - loss: 0.0012 - acc: 0.8854\n",
      "Epoch 00199: saving model to ./weights/weights-loss-0.0011-acc-0.8875-epoch-199.h5\n",
      "14/14 [==============================] - 1s 64ms/step - loss: 0.0012 - acc: 0.8828 - val_loss: 0.0011 - val_acc: 0.8875\n",
      "Epoch 200/200\n",
      "13/14 [==========================>...] - ETA: 0s - loss: 0.0012 - acc: 0.8855\n",
      "Epoch 00200: saving model to ./weights/weights-loss-0.0011-acc-0.8900-epoch-200.h5\n",
      "14/14 [==============================] - 1s 65ms/step - loss: 0.0012 - acc: 0.8847 - val_loss: 0.0011 - val_acc: 0.8900\n"
     ]
    },
    {
     "data": {
      "text/plain": [
       "<tensorflow.python.keras.callbacks.History at 0x7f79292e9438>"
      ]
     },
     "execution_count": 40,
     "metadata": {},
     "output_type": "execute_result"
    }
   ],
   "source": [
    "model.fit_generator(datagen.flow(X_train_shuffled, y_train_shuffled, batch_size=batch_size), epochs=n_epochs, verbose=1, steps_per_epoch=X_train_shuffled.shape[0]//batch_size, validation_data=(X_test, y_test), callbacks=callbacks_list)"
   ]
  },
  {
   "cell_type": "markdown",
   "metadata": {},
   "source": [
    "## Load test data for prediction"
   ]
  },
  {
   "cell_type": "code",
   "execution_count": 41,
   "metadata": {},
   "outputs": [],
   "source": [
    "# load images\n",
    "test_images = load_data(fn_test_image)\n",
    "# reshape them as their train counterpart\n",
    "test_images = np.array(test_images).reshape(-1, 28, 28, 1)\n",
    "# normalize values\n",
    "test_images = test_images / 255.0"
   ]
  },
  {
   "cell_type": "code",
   "execution_count": 42,
   "metadata": {},
   "outputs": [],
   "source": [
    "assert test_images.shape == (2000, 28, 28, 1)"
   ]
  },
  {
   "cell_type": "markdown",
   "metadata": {},
   "source": [
    "## Load model with best weights"
   ]
  },
  {
   "cell_type": "code",
   "execution_count": 44,
   "metadata": {},
   "outputs": [],
   "source": [
    "best_weights = \"./weights/weights-loss-0.0010-acc-0.9012-epoch-171.h5\"\n",
    "model.load_weights(best_weights)"
   ]
  },
  {
   "cell_type": "markdown",
   "metadata": {},
   "source": [
    "## Predict the classes"
   ]
  },
  {
   "cell_type": "code",
   "execution_count": 45,
   "metadata": {},
   "outputs": [],
   "source": [
    "predictions = model.predict(test_images)"
   ]
  },
  {
   "cell_type": "code",
   "execution_count": 46,
   "metadata": {},
   "outputs": [],
   "source": [
    "# assert the predictions\n",
    "assert predictions.shape[0] == 2000"
   ]
  },
  {
   "cell_type": "markdown",
   "metadata": {},
   "source": [
    "## Convert the probability predictions into class predictions"
   ]
  },
  {
   "cell_type": "code",
   "execution_count": 47,
   "metadata": {},
   "outputs": [],
   "source": [
    "# get class labels\n",
    "final_predictions = np.argmax(predictions, axis=1)"
   ]
  },
  {
   "cell_type": "code",
   "execution_count": 48,
   "metadata": {},
   "outputs": [],
   "source": [
    "assert final_predictions.shape == (2000,)"
   ]
  },
  {
   "cell_type": "markdown",
   "metadata": {},
   "source": [
    "## Convert predicted values to dump structure"
   ]
  },
  {
   "cell_type": "code",
   "execution_count": 49,
   "metadata": {},
   "outputs": [],
   "source": [
    "data_to_dump = np.zeros(shape=(2000, 2))\n",
    "for i in range(len(test_images)):\n",
    "    data_to_dump[i][0] = int(i)\n",
    "    data_to_dump[i][1] = int(new_to_old[final_predictions[i]])"
   ]
  },
  {
   "cell_type": "code",
   "execution_count": 50,
   "metadata": {},
   "outputs": [],
   "source": [
    "# store predictions to a csv file\n",
    "import pandas as pd\n",
    "pd.DataFrame(data_to_dump).to_csv(\"Amol_Grover.csv\",header=['image_index','class'], index=False)"
   ]
  }
 ],
 "metadata": {
  "kernelspec": {
   "display_name": "Python [conda env:tensorflow]",
   "language": "python",
   "name": "conda-env-tensorflow-py"
  },
  "language_info": {
   "codemirror_mode": {
    "name": "ipython",
    "version": 3
   },
   "file_extension": ".py",
   "mimetype": "text/x-python",
   "name": "python",
   "nbconvert_exporter": "python",
   "pygments_lexer": "ipython3",
   "version": "3.6.6"
  }
 },
 "nbformat": 4,
 "nbformat_minor": 2
}
