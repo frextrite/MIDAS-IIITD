{
 "cells": [
  {
   "cell_type": "markdown",
   "metadata": {},
   "source": [
    "# Tweeer - A Twitter Scraper"
   ]
  },
  {
   "cell_type": "code",
   "execution_count": 1,
   "metadata": {},
   "outputs": [],
   "source": [
    "import os # for getting twitter api token\n",
    "import tweepy # for working with twitter api\n",
    "import jsonlines # to store and retrieve tweets"
   ]
  },
  {
   "cell_type": "code",
   "execution_count": 15,
   "metadata": {},
   "outputs": [],
   "source": [
    "# variables\n",
    "consumer_token = os.environ[\"consumer_token\"]\n",
    "consumer_secret = os.environ[\"consumer_secret\"]\n",
    "access_token = os.environ[\"access_token\"]\n",
    "access_secret = os.environ[\"access_secret\"]\n",
    "num_tweets = 200\n",
    "screen_name = \"midasIIITD\"\n",
    "page = 1"
   ]
  },
  {
   "cell_type": "code",
   "execution_count": 3,
   "metadata": {},
   "outputs": [],
   "source": [
    "# authenticate the user\n",
    "auth = tweepy.OAuthHandler(consumer_token, consumer_secret)"
   ]
  },
  {
   "cell_type": "code",
   "execution_count": 4,
   "metadata": {},
   "outputs": [],
   "source": [
    "# set access tokens (OAuth dance is already done and the token obtained)\n",
    "auth.set_access_token(access_token, access_secret) "
   ]
  },
  {
   "cell_type": "code",
   "execution_count": 5,
   "metadata": {},
   "outputs": [],
   "source": [
    "# access the tweepy api\n",
    "api = tweepy.API(auth)"
   ]
  },
  {
   "cell_type": "markdown",
   "metadata": {},
   "source": [
    "## Create an empty list to hold all tweets by @midasIIITD"
   ]
  },
  {
   "cell_type": "code",
   "execution_count": 16,
   "metadata": {},
   "outputs": [],
   "source": [
    "tweets = list()"
   ]
  },
  {
   "cell_type": "code",
   "execution_count": 17,
   "metadata": {},
   "outputs": [],
   "source": [
    "# fetch initial 200 tweets\n",
    "curr_tweets = api.user_timeline(screen_name=screen_name, count=num_tweets, page=page)\n",
    "page += 1"
   ]
  },
  {
   "cell_type": "code",
   "execution_count": 18,
   "metadata": {},
   "outputs": [
    {
     "data": {
      "text/plain": [
       "2"
      ]
     },
     "execution_count": 18,
     "metadata": {},
     "output_type": "execute_result"
    }
   ],
   "source": [
    "page #debug"
   ]
  },
  {
   "cell_type": "code",
   "execution_count": 19,
   "metadata": {},
   "outputs": [],
   "source": [
    "# append new tweets to original tweets dictionary\n",
    "tweets.extend(curr_tweets)"
   ]
  },
  {
   "cell_type": "code",
   "execution_count": 20,
   "metadata": {},
   "outputs": [],
   "source": [
    "# continuously fetch rest of the tweets\n",
    "while(len(curr_tweets) > 0):\n",
    "    curr_tweets = api.user_timeline(screen_name=screen_name, count=num_tweets, page=page)\n",
    "    \n",
    "    tweets.extend(curr_tweets)\n",
    "    \n",
    "    page += 1"
   ]
  },
  {
   "cell_type": "code",
   "execution_count": 22,
   "metadata": {},
   "outputs": [
    {
     "data": {
      "text/plain": [
       "342"
      ]
     },
     "execution_count": 22,
     "metadata": {},
     "output_type": "execute_result"
    }
   ],
   "source": [
    "# get total number of tweets\n",
    "len(tweets)"
   ]
  },
  {
   "cell_type": "code",
   "execution_count": 24,
   "metadata": {},
   "outputs": [
    {
     "data": {
      "text/plain": [
       "dict_keys(['created_at', 'id', 'id_str', 'text', 'truncated', 'entities', 'source', 'in_reply_to_status_id', 'in_reply_to_status_id_str', 'in_reply_to_user_id', 'in_reply_to_user_id_str', 'in_reply_to_screen_name', 'user', 'geo', 'coordinates', 'place', 'contributors', 'retweeted_status', 'is_quote_status', 'retweet_count', 'favorite_count', 'favorited', 'retweeted', 'lang'])"
      ]
     },
     "execution_count": 24,
     "metadata": {},
     "output_type": "execute_result"
    }
   ],
   "source": [
    "# get structure of a single tweet\n",
    "tweets[0]._json.keys()"
   ]
  },
  {
   "cell_type": "code",
   "execution_count": 42,
   "metadata": {},
   "outputs": [
    {
     "data": {
      "text/plain": [
       "dict_keys(['hashtags', 'symbols', 'user_mentions', 'urls'])"
      ]
     },
     "execution_count": 42,
     "metadata": {},
     "output_type": "execute_result"
    }
   ],
   "source": [
    "# nested structure\n",
    "tweets[0]._json['entities'].keys()"
   ]
  },
  {
   "cell_type": "code",
   "execution_count": 154,
   "metadata": {},
   "outputs": [
    {
     "name": "stdout",
     "output_type": "stream",
     "text": [
      "dict_keys(['hashtags', 'symbols', 'user_mentions', 'urls'])\n",
      "dict_keys(['hashtags', 'symbols', 'user_mentions', 'urls'])\n",
      "dict_keys(['hashtags', 'symbols', 'user_mentions', 'urls'])\n",
      "dict_keys(['hashtags', 'symbols', 'user_mentions', 'urls'])\n",
      "dict_keys(['hashtags', 'symbols', 'user_mentions', 'urls'])\n",
      "dict_keys(['hashtags', 'symbols', 'user_mentions', 'urls'])\n",
      "dict_keys(['hashtags', 'symbols', 'user_mentions', 'urls'])\n",
      "dict_keys(['hashtags', 'symbols', 'user_mentions', 'urls'])\n",
      "dict_keys(['hashtags', 'symbols', 'user_mentions', 'urls'])\n",
      "dict_keys(['hashtags', 'symbols', 'user_mentions', 'urls'])\n",
      "dict_keys(['hashtags', 'symbols', 'user_mentions', 'urls'])\n",
      "dict_keys(['hashtags', 'symbols', 'user_mentions', 'urls'])\n",
      "dict_keys(['hashtags', 'symbols', 'user_mentions', 'urls'])\n",
      "dict_keys(['hashtags', 'symbols', 'user_mentions', 'urls'])\n",
      "dict_keys(['hashtags', 'symbols', 'user_mentions', 'urls'])\n",
      "dict_keys(['hashtags', 'symbols', 'user_mentions', 'urls'])\n",
      "dict_keys(['hashtags', 'symbols', 'user_mentions', 'urls'])\n",
      "dict_keys(['hashtags', 'symbols', 'user_mentions', 'urls', 'media'])\n",
      "dict_keys(['hashtags', 'symbols', 'user_mentions', 'urls'])\n",
      "dict_keys(['hashtags', 'symbols', 'user_mentions', 'urls'])\n"
     ]
    }
   ],
   "source": [
    "for i in range(20):\n",
    "    print(tweets[i]._json['entities'].keys())"
   ]
  },
  {
   "cell_type": "markdown",
   "metadata": {},
   "source": [
    "## Create a list of tweet objects"
   ]
  },
  {
   "cell_type": "code",
   "execution_count": 25,
   "metadata": {},
   "outputs": [],
   "source": [
    "tweets_to_dump = []"
   ]
  },
  {
   "cell_type": "code",
   "execution_count": 26,
   "metadata": {},
   "outputs": [],
   "source": [
    "for tweet in tweets:\n",
    "    tweets_to_dump.append(tweet._json)"
   ]
  },
  {
   "cell_type": "code",
   "execution_count": 27,
   "metadata": {},
   "outputs": [],
   "source": [
    "assert len(tweets_to_dump) == 342"
   ]
  },
  {
   "cell_type": "markdown",
   "metadata": {},
   "source": [
    "## Dump tweets to a jsonline file"
   ]
  },
  {
   "cell_type": "code",
   "execution_count": 28,
   "metadata": {},
   "outputs": [],
   "source": [
    "file_name = \"midasIIITD_tweets.jsonlines\""
   ]
  },
  {
   "cell_type": "code",
   "execution_count": 29,
   "metadata": {},
   "outputs": [],
   "source": [
    "with jsonlines.open(file_name, mode='w') as writer:\n",
    "    writer.write_all(tweets_to_dump)"
   ]
  },
  {
   "cell_type": "markdown",
   "metadata": {},
   "source": [
    "## Read and parse JSONlines file"
   ]
  },
  {
   "cell_type": "code",
   "execution_count": 53,
   "metadata": {},
   "outputs": [],
   "source": [
    "# use pandas for reading JSONlines file\n",
    "import pandas as pd"
   ]
  },
  {
   "cell_type": "code",
   "execution_count": 146,
   "metadata": {},
   "outputs": [],
   "source": [
    "# import file into a pandas dataframe\n",
    "df = pd.read_json(file_name, lines=True)"
   ]
  },
  {
   "cell_type": "code",
   "execution_count": 147,
   "metadata": {
    "scrolled": false
   },
   "outputs": [
    {
     "data": {
      "text/html": [
       "<div>\n",
       "<style scoped>\n",
       "    .dataframe tbody tr th:only-of-type {\n",
       "        vertical-align: middle;\n",
       "    }\n",
       "\n",
       "    .dataframe tbody tr th {\n",
       "        vertical-align: top;\n",
       "    }\n",
       "\n",
       "    .dataframe thead th {\n",
       "        text-align: right;\n",
       "    }\n",
       "</style>\n",
       "<table border=\"1\" class=\"dataframe\">\n",
       "  <thead>\n",
       "    <tr style=\"text-align: right;\">\n",
       "      <th></th>\n",
       "      <th>contributors</th>\n",
       "      <th>coordinates</th>\n",
       "      <th>created_at</th>\n",
       "      <th>entities</th>\n",
       "      <th>extended_entities</th>\n",
       "      <th>favorite_count</th>\n",
       "      <th>favorited</th>\n",
       "      <th>geo</th>\n",
       "      <th>id</th>\n",
       "      <th>id_str</th>\n",
       "      <th>...</th>\n",
       "      <th>quoted_status</th>\n",
       "      <th>quoted_status_id</th>\n",
       "      <th>quoted_status_id_str</th>\n",
       "      <th>retweet_count</th>\n",
       "      <th>retweeted</th>\n",
       "      <th>retweeted_status</th>\n",
       "      <th>source</th>\n",
       "      <th>text</th>\n",
       "      <th>truncated</th>\n",
       "      <th>user</th>\n",
       "    </tr>\n",
       "  </thead>\n",
       "  <tbody>\n",
       "    <tr>\n",
       "      <th>0</th>\n",
       "      <td>NaN</td>\n",
       "      <td>NaN</td>\n",
       "      <td>2019-04-09 16:45:07</td>\n",
       "      <td>{'hashtags': [], 'symbols': [], 'user_mentions...</td>\n",
       "      <td>NaN</td>\n",
       "      <td>0</td>\n",
       "      <td>False</td>\n",
       "      <td>NaN</td>\n",
       "      <td>1115656899892879361</td>\n",
       "      <td>1115656899892879360</td>\n",
       "      <td>...</td>\n",
       "      <td>NaN</td>\n",
       "      <td>NaN</td>\n",
       "      <td>NaN</td>\n",
       "      <td>8</td>\n",
       "      <td>False</td>\n",
       "      <td>{'created_at': 'Tue Apr 09 09:03:12 +0000 2019...</td>\n",
       "      <td>&lt;a href=\"http://twitter.com\" rel=\"nofollow\"&gt;Tw...</td>\n",
       "      <td>RT @IIITDelhi: We are delighted to share that ...</td>\n",
       "      <td>False</td>\n",
       "      <td>{'id': 1021355762575073281, 'id_str': '1021355...</td>\n",
       "    </tr>\n",
       "    <tr>\n",
       "      <th>1</th>\n",
       "      <td>NaN</td>\n",
       "      <td>NaN</td>\n",
       "      <td>2019-04-09 05:04:27</td>\n",
       "      <td>{'hashtags': [], 'symbols': [], 'user_mentions...</td>\n",
       "      <td>NaN</td>\n",
       "      <td>0</td>\n",
       "      <td>False</td>\n",
       "      <td>NaN</td>\n",
       "      <td>1115480571323371520</td>\n",
       "      <td>1115480571323371520</td>\n",
       "      <td>...</td>\n",
       "      <td>NaN</td>\n",
       "      <td>NaN</td>\n",
       "      <td>NaN</td>\n",
       "      <td>35</td>\n",
       "      <td>False</td>\n",
       "      <td>{'created_at': 'Mon Apr 08 20:10:01 +0000 2019...</td>\n",
       "      <td>&lt;a href=\"http://twitter.com\" rel=\"nofollow\"&gt;Tw...</td>\n",
       "      <td>RT @Harvard: Professor Jelani Nelson founded A...</td>\n",
       "      <td>False</td>\n",
       "      <td>{'id': 1021355762575073281, 'id_str': '1021355...</td>\n",
       "    </tr>\n",
       "    <tr>\n",
       "      <th>2</th>\n",
       "      <td>NaN</td>\n",
       "      <td>NaN</td>\n",
       "      <td>2019-04-09 05:04:11</td>\n",
       "      <td>{'hashtags': [], 'symbols': [], 'user_mentions...</td>\n",
       "      <td>NaN</td>\n",
       "      <td>0</td>\n",
       "      <td>False</td>\n",
       "      <td>NaN</td>\n",
       "      <td>1115480504931844101</td>\n",
       "      <td>1115480504931844096</td>\n",
       "      <td>...</td>\n",
       "      <td>NaN</td>\n",
       "      <td>NaN</td>\n",
       "      <td>NaN</td>\n",
       "      <td>12</td>\n",
       "      <td>False</td>\n",
       "      <td>{'created_at': 'Mon Apr 08 17:35:00 +0000 2019...</td>\n",
       "      <td>&lt;a href=\"http://twitter.com\" rel=\"nofollow\"&gt;Tw...</td>\n",
       "      <td>RT @emnlp2019: For anyone interested in submit...</td>\n",
       "      <td>False</td>\n",
       "      <td>{'id': 1021355762575073281, 'id_str': '1021355...</td>\n",
       "    </tr>\n",
       "    <tr>\n",
       "      <th>3</th>\n",
       "      <td>NaN</td>\n",
       "      <td>NaN</td>\n",
       "      <td>2019-04-08 19:38:09</td>\n",
       "      <td>{'hashtags': [], 'symbols': [], 'user_mentions...</td>\n",
       "      <td>NaN</td>\n",
       "      <td>0</td>\n",
       "      <td>False</td>\n",
       "      <td>NaN</td>\n",
       "      <td>1115338057400573953</td>\n",
       "      <td>1115338057400573952</td>\n",
       "      <td>...</td>\n",
       "      <td>NaN</td>\n",
       "      <td>NaN</td>\n",
       "      <td>NaN</td>\n",
       "      <td>15</td>\n",
       "      <td>False</td>\n",
       "      <td>{'created_at': 'Mon Mar 18 06:40:38 +0000 2019...</td>\n",
       "      <td>&lt;a href=\"http://twitter.com\" rel=\"nofollow\"&gt;Tw...</td>\n",
       "      <td>RT @multimediaeval: Announcing the 2019 MediaE...</td>\n",
       "      <td>False</td>\n",
       "      <td>{'id': 1021355762575073281, 'id_str': '1021355...</td>\n",
       "    </tr>\n",
       "    <tr>\n",
       "      <th>4</th>\n",
       "      <td>NaN</td>\n",
       "      <td>NaN</td>\n",
       "      <td>2019-04-08 07:08:12</td>\n",
       "      <td>{'hashtags': [], 'symbols': [], 'user_mentions...</td>\n",
       "      <td>NaN</td>\n",
       "      <td>14</td>\n",
       "      <td>False</td>\n",
       "      <td>NaN</td>\n",
       "      <td>1115149324533542912</td>\n",
       "      <td>1115149324533542912</td>\n",
       "      <td>...</td>\n",
       "      <td>NaN</td>\n",
       "      <td>NaN</td>\n",
       "      <td>NaN</td>\n",
       "      <td>2</td>\n",
       "      <td>False</td>\n",
       "      <td>NaN</td>\n",
       "      <td>&lt;a href=\"http://twitter.com\" rel=\"nofollow\"&gt;Tw...</td>\n",
       "      <td>Many Congratulations to @midasIIITD student, S...</td>\n",
       "      <td>True</td>\n",
       "      <td>{'id': 1021355762575073281, 'id_str': '1021355...</td>\n",
       "    </tr>\n",
       "  </tbody>\n",
       "</table>\n",
       "<p>5 rows × 29 columns</p>\n",
       "</div>"
      ],
      "text/plain": [
       "   contributors  coordinates          created_at  \\\n",
       "0           NaN          NaN 2019-04-09 16:45:07   \n",
       "1           NaN          NaN 2019-04-09 05:04:27   \n",
       "2           NaN          NaN 2019-04-09 05:04:11   \n",
       "3           NaN          NaN 2019-04-08 19:38:09   \n",
       "4           NaN          NaN 2019-04-08 07:08:12   \n",
       "\n",
       "                                            entities extended_entities  \\\n",
       "0  {'hashtags': [], 'symbols': [], 'user_mentions...               NaN   \n",
       "1  {'hashtags': [], 'symbols': [], 'user_mentions...               NaN   \n",
       "2  {'hashtags': [], 'symbols': [], 'user_mentions...               NaN   \n",
       "3  {'hashtags': [], 'symbols': [], 'user_mentions...               NaN   \n",
       "4  {'hashtags': [], 'symbols': [], 'user_mentions...               NaN   \n",
       "\n",
       "   favorite_count  favorited  geo                   id               id_str  \\\n",
       "0               0      False  NaN  1115656899892879361  1115656899892879360   \n",
       "1               0      False  NaN  1115480571323371520  1115480571323371520   \n",
       "2               0      False  NaN  1115480504931844101  1115480504931844096   \n",
       "3               0      False  NaN  1115338057400573953  1115338057400573952   \n",
       "4              14      False  NaN  1115149324533542912  1115149324533542912   \n",
       "\n",
       "                         ...                         quoted_status  \\\n",
       "0                        ...                                   NaN   \n",
       "1                        ...                                   NaN   \n",
       "2                        ...                                   NaN   \n",
       "3                        ...                                   NaN   \n",
       "4                        ...                                   NaN   \n",
       "\n",
       "   quoted_status_id  quoted_status_id_str  retweet_count  retweeted  \\\n",
       "0               NaN                   NaN              8      False   \n",
       "1               NaN                   NaN             35      False   \n",
       "2               NaN                   NaN             12      False   \n",
       "3               NaN                   NaN             15      False   \n",
       "4               NaN                   NaN              2      False   \n",
       "\n",
       "                                    retweeted_status  \\\n",
       "0  {'created_at': 'Tue Apr 09 09:03:12 +0000 2019...   \n",
       "1  {'created_at': 'Mon Apr 08 20:10:01 +0000 2019...   \n",
       "2  {'created_at': 'Mon Apr 08 17:35:00 +0000 2019...   \n",
       "3  {'created_at': 'Mon Mar 18 06:40:38 +0000 2019...   \n",
       "4                                                NaN   \n",
       "\n",
       "                                              source  \\\n",
       "0  <a href=\"http://twitter.com\" rel=\"nofollow\">Tw...   \n",
       "1  <a href=\"http://twitter.com\" rel=\"nofollow\">Tw...   \n",
       "2  <a href=\"http://twitter.com\" rel=\"nofollow\">Tw...   \n",
       "3  <a href=\"http://twitter.com\" rel=\"nofollow\">Tw...   \n",
       "4  <a href=\"http://twitter.com\" rel=\"nofollow\">Tw...   \n",
       "\n",
       "                                                text  truncated  \\\n",
       "0  RT @IIITDelhi: We are delighted to share that ...      False   \n",
       "1  RT @Harvard: Professor Jelani Nelson founded A...      False   \n",
       "2  RT @emnlp2019: For anyone interested in submit...      False   \n",
       "3  RT @multimediaeval: Announcing the 2019 MediaE...      False   \n",
       "4  Many Congratulations to @midasIIITD student, S...       True   \n",
       "\n",
       "                                                user  \n",
       "0  {'id': 1021355762575073281, 'id_str': '1021355...  \n",
       "1  {'id': 1021355762575073281, 'id_str': '1021355...  \n",
       "2  {'id': 1021355762575073281, 'id_str': '1021355...  \n",
       "3  {'id': 1021355762575073281, 'id_str': '1021355...  \n",
       "4  {'id': 1021355762575073281, 'id_str': '1021355...  \n",
       "\n",
       "[5 rows x 29 columns]"
      ]
     },
     "execution_count": 147,
     "metadata": {},
     "output_type": "execute_result"
    }
   ],
   "source": [
    "# take a sneak-peak\n",
    "df.head()"
   ]
  },
  {
   "cell_type": "raw",
   "metadata": {},
   "source": [
    "# create column num_images indicating number of images in the tweet\n",
    "if 'media' in df['entities']:\n",
    "    df['num_images'] = len(df['entities']['media'])\n",
    "else:\n",
    "    df['num_images'] = None"
   ]
  },
  {
   "cell_type": "code",
   "execution_count": 149,
   "metadata": {},
   "outputs": [],
   "source": [
    "# create a new column, value contains number of images in tweet\n",
    "df['num_images'] = df['entities'].apply(lambda x: len(x['media']) if 'media' in x else None)"
   ]
  },
  {
   "cell_type": "code",
   "execution_count": 150,
   "metadata": {},
   "outputs": [],
   "source": [
    "# get a list of dataframe columns\n",
    "df = df[['text' ,'created_at', 'favorite_count', 'retweet_count', 'num_images']]"
   ]
  },
  {
   "cell_type": "code",
   "execution_count": 151,
   "metadata": {},
   "outputs": [],
   "source": [
    "# convert NaN to None\n",
    "df = df.where((pd.notnull(df)), None)"
   ]
  },
  {
   "cell_type": "code",
   "execution_count": 153,
   "metadata": {},
   "outputs": [
    {
     "data": {
      "text/html": [
       "<div>\n",
       "<style scoped>\n",
       "    .dataframe tbody tr th:only-of-type {\n",
       "        vertical-align: middle;\n",
       "    }\n",
       "\n",
       "    .dataframe tbody tr th {\n",
       "        vertical-align: top;\n",
       "    }\n",
       "\n",
       "    .dataframe thead th {\n",
       "        text-align: right;\n",
       "    }\n",
       "</style>\n",
       "<table border=\"1\" class=\"dataframe\">\n",
       "  <thead>\n",
       "    <tr style=\"text-align: right;\">\n",
       "      <th></th>\n",
       "      <th>text</th>\n",
       "      <th>created_at</th>\n",
       "      <th>favorite_count</th>\n",
       "      <th>retweet_count</th>\n",
       "      <th>num_images</th>\n",
       "    </tr>\n",
       "  </thead>\n",
       "  <tbody>\n",
       "    <tr>\n",
       "      <th>0</th>\n",
       "      <td>RT @IIITDelhi: We are delighted to share that ...</td>\n",
       "      <td>2019-04-09 16:45:07</td>\n",
       "      <td>0</td>\n",
       "      <td>8</td>\n",
       "      <td>None</td>\n",
       "    </tr>\n",
       "    <tr>\n",
       "      <th>1</th>\n",
       "      <td>RT @Harvard: Professor Jelani Nelson founded A...</td>\n",
       "      <td>2019-04-09 05:04:27</td>\n",
       "      <td>0</td>\n",
       "      <td>35</td>\n",
       "      <td>None</td>\n",
       "    </tr>\n",
       "    <tr>\n",
       "      <th>2</th>\n",
       "      <td>RT @emnlp2019: For anyone interested in submit...</td>\n",
       "      <td>2019-04-09 05:04:11</td>\n",
       "      <td>0</td>\n",
       "      <td>12</td>\n",
       "      <td>None</td>\n",
       "    </tr>\n",
       "    <tr>\n",
       "      <th>3</th>\n",
       "      <td>RT @multimediaeval: Announcing the 2019 MediaE...</td>\n",
       "      <td>2019-04-08 19:38:09</td>\n",
       "      <td>0</td>\n",
       "      <td>15</td>\n",
       "      <td>None</td>\n",
       "    </tr>\n",
       "    <tr>\n",
       "      <th>4</th>\n",
       "      <td>Many Congratulations to @midasIIITD student, S...</td>\n",
       "      <td>2019-04-08 07:08:12</td>\n",
       "      <td>14</td>\n",
       "      <td>2</td>\n",
       "      <td>None</td>\n",
       "    </tr>\n",
       "    <tr>\n",
       "      <th>5</th>\n",
       "      <td>@midasIIITD thanks all students who have appea...</td>\n",
       "      <td>2019-04-08 03:27:42</td>\n",
       "      <td>5</td>\n",
       "      <td>0</td>\n",
       "      <td>None</td>\n",
       "    </tr>\n",
       "    <tr>\n",
       "      <th>6</th>\n",
       "      <td>@himanchalchandr Meanwhile, complete CV/NLP ta...</td>\n",
       "      <td>2019-04-07 14:17:29</td>\n",
       "      <td>0</td>\n",
       "      <td>0</td>\n",
       "      <td>None</td>\n",
       "    </tr>\n",
       "    <tr>\n",
       "      <th>7</th>\n",
       "      <td>@sayangdipto123 Submit as per the guideline ag...</td>\n",
       "      <td>2019-04-07 14:17:09</td>\n",
       "      <td>0</td>\n",
       "      <td>0</td>\n",
       "      <td>None</td>\n",
       "    </tr>\n",
       "    <tr>\n",
       "      <th>8</th>\n",
       "      <td>We request all students whose interview are sc...</td>\n",
       "      <td>2019-04-07 11:43:24</td>\n",
       "      <td>1</td>\n",
       "      <td>1</td>\n",
       "      <td>None</td>\n",
       "    </tr>\n",
       "    <tr>\n",
       "      <th>9</th>\n",
       "      <td>Other queries: \"none of the Tweeter Apis give ...</td>\n",
       "      <td>2019-04-07 06:55:19</td>\n",
       "      <td>5</td>\n",
       "      <td>2</td>\n",
       "      <td>None</td>\n",
       "    </tr>\n",
       "    <tr>\n",
       "      <th>10</th>\n",
       "      <td>Other queries: \"do we have to make two differe...</td>\n",
       "      <td>2019-04-07 06:53:38</td>\n",
       "      <td>4</td>\n",
       "      <td>1</td>\n",
       "      <td>None</td>\n",
       "    </tr>\n",
       "    <tr>\n",
       "      <th>11</th>\n",
       "      <td>Other queries: \"If using Twitter api, it does ...</td>\n",
       "      <td>2019-04-07 05:32:27</td>\n",
       "      <td>6</td>\n",
       "      <td>1</td>\n",
       "      <td>None</td>\n",
       "    </tr>\n",
       "    <tr>\n",
       "      <th>12</th>\n",
       "      <td>Response to some queries asked by students on ...</td>\n",
       "      <td>2019-04-07 05:29:40</td>\n",
       "      <td>7</td>\n",
       "      <td>1</td>\n",
       "      <td>None</td>\n",
       "    </tr>\n",
       "    <tr>\n",
       "      <th>13</th>\n",
       "      <td>RT @kdnuggets: Top 8 #Free Must-Read #Books on...</td>\n",
       "      <td>2019-04-06 17:11:29</td>\n",
       "      <td>0</td>\n",
       "      <td>2</td>\n",
       "      <td>None</td>\n",
       "    </tr>\n",
       "    <tr>\n",
       "      <th>14</th>\n",
       "      <td>@nupur_baghel @PennDATS Congratulation @nupur_...</td>\n",
       "      <td>2019-04-06 16:43:27</td>\n",
       "      <td>18</td>\n",
       "      <td>3</td>\n",
       "      <td>None</td>\n",
       "    </tr>\n",
       "    <tr>\n",
       "      <th>15</th>\n",
       "      <td>We have emailed the task details to all candid...</td>\n",
       "      <td>2019-04-05 16:08:37</td>\n",
       "      <td>11</td>\n",
       "      <td>1</td>\n",
       "      <td>None</td>\n",
       "    </tr>\n",
       "    <tr>\n",
       "      <th>16</th>\n",
       "      <td>RT @rfpvjr: Our NAACL paper on polarization in...</td>\n",
       "      <td>2019-04-05 04:05:11</td>\n",
       "      <td>0</td>\n",
       "      <td>16</td>\n",
       "      <td>None</td>\n",
       "    </tr>\n",
       "    <tr>\n",
       "      <th>17</th>\n",
       "      <td>RT @kdnuggets: Effective Transfer Learning For...</td>\n",
       "      <td>2019-04-05 04:04:43</td>\n",
       "      <td>0</td>\n",
       "      <td>11</td>\n",
       "      <td>1</td>\n",
       "    </tr>\n",
       "    <tr>\n",
       "      <th>18</th>\n",
       "      <td>RT @stanfordnlp: What’s new in @Stanford CS224...</td>\n",
       "      <td>2019-04-03 18:31:53</td>\n",
       "      <td>0</td>\n",
       "      <td>59</td>\n",
       "      <td>None</td>\n",
       "    </tr>\n",
       "    <tr>\n",
       "      <th>19</th>\n",
       "      <td>RT @DeepMindAI: Today we're releasing a large-...</td>\n",
       "      <td>2019-04-03 17:04:32</td>\n",
       "      <td>0</td>\n",
       "      <td>870</td>\n",
       "      <td>None</td>\n",
       "    </tr>\n",
       "  </tbody>\n",
       "</table>\n",
       "</div>"
      ],
      "text/plain": [
       "                                                 text          created_at  \\\n",
       "0   RT @IIITDelhi: We are delighted to share that ... 2019-04-09 16:45:07   \n",
       "1   RT @Harvard: Professor Jelani Nelson founded A... 2019-04-09 05:04:27   \n",
       "2   RT @emnlp2019: For anyone interested in submit... 2019-04-09 05:04:11   \n",
       "3   RT @multimediaeval: Announcing the 2019 MediaE... 2019-04-08 19:38:09   \n",
       "4   Many Congratulations to @midasIIITD student, S... 2019-04-08 07:08:12   \n",
       "5   @midasIIITD thanks all students who have appea... 2019-04-08 03:27:42   \n",
       "6   @himanchalchandr Meanwhile, complete CV/NLP ta... 2019-04-07 14:17:29   \n",
       "7   @sayangdipto123 Submit as per the guideline ag... 2019-04-07 14:17:09   \n",
       "8   We request all students whose interview are sc... 2019-04-07 11:43:24   \n",
       "9   Other queries: \"none of the Tweeter Apis give ... 2019-04-07 06:55:19   \n",
       "10  Other queries: \"do we have to make two differe... 2019-04-07 06:53:38   \n",
       "11  Other queries: \"If using Twitter api, it does ... 2019-04-07 05:32:27   \n",
       "12  Response to some queries asked by students on ... 2019-04-07 05:29:40   \n",
       "13  RT @kdnuggets: Top 8 #Free Must-Read #Books on... 2019-04-06 17:11:29   \n",
       "14  @nupur_baghel @PennDATS Congratulation @nupur_... 2019-04-06 16:43:27   \n",
       "15  We have emailed the task details to all candid... 2019-04-05 16:08:37   \n",
       "16  RT @rfpvjr: Our NAACL paper on polarization in... 2019-04-05 04:05:11   \n",
       "17  RT @kdnuggets: Effective Transfer Learning For... 2019-04-05 04:04:43   \n",
       "18  RT @stanfordnlp: What’s new in @Stanford CS224... 2019-04-03 18:31:53   \n",
       "19  RT @DeepMindAI: Today we're releasing a large-... 2019-04-03 17:04:32   \n",
       "\n",
       "    favorite_count  retweet_count num_images  \n",
       "0                0              8       None  \n",
       "1                0             35       None  \n",
       "2                0             12       None  \n",
       "3                0             15       None  \n",
       "4               14              2       None  \n",
       "5                5              0       None  \n",
       "6                0              0       None  \n",
       "7                0              0       None  \n",
       "8                1              1       None  \n",
       "9                5              2       None  \n",
       "10               4              1       None  \n",
       "11               6              1       None  \n",
       "12               7              1       None  \n",
       "13               0              2       None  \n",
       "14              18              3       None  \n",
       "15              11              1       None  \n",
       "16               0             16       None  \n",
       "17               0             11          1  \n",
       "18               0             59       None  \n",
       "19               0            870       None  "
      ]
     },
     "execution_count": 153,
     "metadata": {},
     "output_type": "execute_result"
    }
   ],
   "source": [
    "df.head(20)"
   ]
  }
 ],
 "metadata": {
  "kernelspec": {
   "display_name": "Python [conda env:tensorflow]",
   "language": "python",
   "name": "conda-env-tensorflow-py"
  },
  "language_info": {
   "codemirror_mode": {
    "name": "ipython",
    "version": 3
   },
   "file_extension": ".py",
   "mimetype": "text/x-python",
   "name": "python",
   "nbconvert_exporter": "python",
   "pygments_lexer": "ipython3",
   "version": "3.6.6"
  }
 },
 "nbformat": 4,
 "nbformat_minor": 2
}
